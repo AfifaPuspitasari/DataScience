{
  "cells": [
    {
      "cell_type": "markdown",
      "metadata": {
        "id": "E0vqbgi9ay0H"
      },
      "source": [
        "# Youtube Music Analysis"
      ]
    },
    {
      "cell_type": "markdown",
      "metadata": {
        "id": "VUC88oWjTJw2"
      },
      "source": [
        "## Introduction <a id='intro'></a>\n",
        "Whenever an analysis is conducted, several hypotheses need to be formulated that require further testing. Sometimes, the testing leads to the acceptance of these hypotheses. However, at other times, they need to be rejected as well. To make the right business decisions, it is necessary to understand whether the assumptions made are correct or not.\n",
        "\n",
        "In this project, the music preferences of listeners in Akita and Newcastle will be compared. Actual data from Y.Music will be reviewed to test the hypotheses below and compare user behavior in both cities.\n",
        "\n",
        "### Objectives:\n",
        "Three hypotheses will be tested:\n",
        "1. User activity varies depending on the day and city.\n",
        "2. On Monday mornings, residents of Akita and Newcastle listen to different genres. This also applies to Friday evenings.\n",
        "3. Listeners in Akita and Newcastle have different preferences. In Akita, users prefer pop music, while in Newcastle, rap music has more fans.\n",
        "\n",
        "### Steps\n",
        "Data related to user behavior is stored in the file `datasets/music_project_en.csv`. There is no information regarding the quality of this data, so it needs to be checked first before testing the hypotheses.\n",
        "\n",
        "First, the data quality will be evaluated, and it will be determined whether the problems are significant. Then, during data preprocessing, the most serious issues will be addressed.\n",
        "\n",
        "The project consists of three stages:\n",
        " 1. Data review\n",
        " 2. Data preprocessing\n",
        " 3. Hypothesis testing"
      ]
    },
    {
      "cell_type": "markdown",
      "source": [
        "## Introduction <a id='intro'></a>\n",
        "Whenever an analysis is conducted, several hypotheses need to be formulated that require further testing. At times, the testing that is performed leads to the acceptance of these hypotheses. However, at other times, they also need to be rejected. To make accurate business decisions, it must be understood whether the assumptions that are made are correct or not.\n",
        "\n",
        "In this project, the music preferences of listeners in Akita and Newcastle will be compared. Actual data from Y.Music will be reviewed to test the hypotheses listed below and to compare user behavior in both cities.\n",
        "\n",
        "### Objectives:\n",
        "Three hypotheses will be tested:\n",
        "1. User activity is varied depending on the day and the city.\n",
        "2. On Monday mornings, different genres are listened to by residents of Akita and Newcastle. This also applies to Friday evenings.\n",
        "3. Different preferences are held by listeners in Akita and Newcastle. In Akita, pop music is preferred by users, while in Newcastle, rap music has more fans."
      ],
      "metadata": {
        "id": "DIDSltuOvXwq"
      }
    },
    {
      "cell_type": "markdown",
      "metadata": {
        "id": "Ml1hmfXC_Zcs"
      },
      "source": [
        "## Step 1. Data Review\n",
        "\n",
        "Open the data related to Y.Music, then study the data"
      ]
    },
    {
      "cell_type": "markdown",
      "metadata": {
        "id": "57eAOGIz_Zcs"
      },
      "source": [
        "Import library"
      ]
    },
    {
      "cell_type": "markdown",
      "metadata": {
        "id": "SG23P8tt_Zcs"
      },
      "source": [
        "The file `music_project_en.csv` from the `datasets/` folder should be read, and the file should be stored in the variable `df`."
      ]
    },
    {
      "cell_type": "code",
      "execution_count": null,
      "metadata": {
        "id": "AXN7PHPN_Zcs"
      },
      "outputs": [],
      "source": [
        "import pandas as pd\n",
        "df = pd.read_csv('music_project_en_Aki.csv')"
      ]
    },
    {
      "cell_type": "markdown",
      "metadata": {
        "id": "rDoOMd3uTqnZ"
      },
      "source": [
        "The first 10 rows of the table is displayed."
      ]
    },
    {
      "cell_type": "code",
      "execution_count": null,
      "metadata": {
        "id": "oWTVX3gW_Zct",
        "outputId": "73db3f0d-4977-4ac6-9b46-ba8d82d5c357",
        "colab": {
          "base_uri": "https://localhost:8080/",
          "height": 363
        }
      },
      "outputs": [
        {
          "output_type": "execute_result",
          "data": {
            "text/plain": [
              "     userID                        Track             artist   genre  \\\n",
              "0  FFB692EC            Kamigata To Boots   The Mass Missile    rock   \n",
              "1  55204538  Delayed Because of Accident  Andreas RÃ¶nnberg    rock   \n",
              "2    20EC38          FuniculÃ¬ funiculÃ         Mario Lanza     pop   \n",
              "3  A3DD03C9        Dragons in the Sunset         Fire + Ice    folk   \n",
              "4  E2DC1FAE                  Soul People         Space Echo   dance   \n",
              "5  842029A1                       Chains           Obladaet  rusrap   \n",
              "6  4CB90AA5                         TRUE       Roman Messer   dance   \n",
              "7  F03E1C1F             Feeling This Way    Polina Griffith   dance   \n",
              "8  8FA1D3BE                   Lâ€™estate        Julia Dalia  ruspop   \n",
              "9  E772D5C0                    Pessimist                NaN   dance   \n",
              "\n",
              "      City        time        Day  \n",
              "0  Newcastle  20:28:33  Wednesday  \n",
              "1      Akita  14:07:09     Friday  \n",
              "2  Newcastle  20:58:07  Wednesday  \n",
              "3  Newcastle   8:37:09     Monday  \n",
              "4      Akita   8:34:34     Monday  \n",
              "5  Newcastle  13:09:41     Friday  \n",
              "6      Akita  13:00:07  Wednesday  \n",
              "7      Akita  20:47:49  Wednesday  \n",
              "8      Akita   9:17:40     Friday  \n",
              "9  Newcastle  21:20:49  Wednesday  "
            ],
            "text/html": [
              "\n",
              "  <div id=\"df-e240faa0-7ba0-4dbb-97e5-9d790d476083\" class=\"colab-df-container\">\n",
              "    <div>\n",
              "<style scoped>\n",
              "    .dataframe tbody tr th:only-of-type {\n",
              "        vertical-align: middle;\n",
              "    }\n",
              "\n",
              "    .dataframe tbody tr th {\n",
              "        vertical-align: top;\n",
              "    }\n",
              "\n",
              "    .dataframe thead th {\n",
              "        text-align: right;\n",
              "    }\n",
              "</style>\n",
              "<table border=\"1\" class=\"dataframe\">\n",
              "  <thead>\n",
              "    <tr style=\"text-align: right;\">\n",
              "      <th></th>\n",
              "      <th>userID</th>\n",
              "      <th>Track</th>\n",
              "      <th>artist</th>\n",
              "      <th>genre</th>\n",
              "      <th>City</th>\n",
              "      <th>time</th>\n",
              "      <th>Day</th>\n",
              "    </tr>\n",
              "  </thead>\n",
              "  <tbody>\n",
              "    <tr>\n",
              "      <th>0</th>\n",
              "      <td>FFB692EC</td>\n",
              "      <td>Kamigata To Boots</td>\n",
              "      <td>The Mass Missile</td>\n",
              "      <td>rock</td>\n",
              "      <td>Newcastle</td>\n",
              "      <td>20:28:33</td>\n",
              "      <td>Wednesday</td>\n",
              "    </tr>\n",
              "    <tr>\n",
              "      <th>1</th>\n",
              "      <td>55204538</td>\n",
              "      <td>Delayed Because of Accident</td>\n",
              "      <td>Andreas RÃ¶nnberg</td>\n",
              "      <td>rock</td>\n",
              "      <td>Akita</td>\n",
              "      <td>14:07:09</td>\n",
              "      <td>Friday</td>\n",
              "    </tr>\n",
              "    <tr>\n",
              "      <th>2</th>\n",
              "      <td>20EC38</td>\n",
              "      <td>FuniculÃ¬ funiculÃ</td>\n",
              "      <td>Mario Lanza</td>\n",
              "      <td>pop</td>\n",
              "      <td>Newcastle</td>\n",
              "      <td>20:58:07</td>\n",
              "      <td>Wednesday</td>\n",
              "    </tr>\n",
              "    <tr>\n",
              "      <th>3</th>\n",
              "      <td>A3DD03C9</td>\n",
              "      <td>Dragons in the Sunset</td>\n",
              "      <td>Fire + Ice</td>\n",
              "      <td>folk</td>\n",
              "      <td>Newcastle</td>\n",
              "      <td>8:37:09</td>\n",
              "      <td>Monday</td>\n",
              "    </tr>\n",
              "    <tr>\n",
              "      <th>4</th>\n",
              "      <td>E2DC1FAE</td>\n",
              "      <td>Soul People</td>\n",
              "      <td>Space Echo</td>\n",
              "      <td>dance</td>\n",
              "      <td>Akita</td>\n",
              "      <td>8:34:34</td>\n",
              "      <td>Monday</td>\n",
              "    </tr>\n",
              "    <tr>\n",
              "      <th>5</th>\n",
              "      <td>842029A1</td>\n",
              "      <td>Chains</td>\n",
              "      <td>Obladaet</td>\n",
              "      <td>rusrap</td>\n",
              "      <td>Newcastle</td>\n",
              "      <td>13:09:41</td>\n",
              "      <td>Friday</td>\n",
              "    </tr>\n",
              "    <tr>\n",
              "      <th>6</th>\n",
              "      <td>4CB90AA5</td>\n",
              "      <td>TRUE</td>\n",
              "      <td>Roman Messer</td>\n",
              "      <td>dance</td>\n",
              "      <td>Akita</td>\n",
              "      <td>13:00:07</td>\n",
              "      <td>Wednesday</td>\n",
              "    </tr>\n",
              "    <tr>\n",
              "      <th>7</th>\n",
              "      <td>F03E1C1F</td>\n",
              "      <td>Feeling This Way</td>\n",
              "      <td>Polina Griffith</td>\n",
              "      <td>dance</td>\n",
              "      <td>Akita</td>\n",
              "      <td>20:47:49</td>\n",
              "      <td>Wednesday</td>\n",
              "    </tr>\n",
              "    <tr>\n",
              "      <th>8</th>\n",
              "      <td>8FA1D3BE</td>\n",
              "      <td>Lâ€™estate</td>\n",
              "      <td>Julia Dalia</td>\n",
              "      <td>ruspop</td>\n",
              "      <td>Akita</td>\n",
              "      <td>9:17:40</td>\n",
              "      <td>Friday</td>\n",
              "    </tr>\n",
              "    <tr>\n",
              "      <th>9</th>\n",
              "      <td>E772D5C0</td>\n",
              "      <td>Pessimist</td>\n",
              "      <td>NaN</td>\n",
              "      <td>dance</td>\n",
              "      <td>Newcastle</td>\n",
              "      <td>21:20:49</td>\n",
              "      <td>Wednesday</td>\n",
              "    </tr>\n",
              "  </tbody>\n",
              "</table>\n",
              "</div>\n",
              "    <div class=\"colab-df-buttons\">\n",
              "\n",
              "  <div class=\"colab-df-container\">\n",
              "    <button class=\"colab-df-convert\" onclick=\"convertToInteractive('df-e240faa0-7ba0-4dbb-97e5-9d790d476083')\"\n",
              "            title=\"Convert this dataframe to an interactive table.\"\n",
              "            style=\"display:none;\">\n",
              "\n",
              "  <svg xmlns=\"http://www.w3.org/2000/svg\" height=\"24px\" viewBox=\"0 -960 960 960\">\n",
              "    <path d=\"M120-120v-720h720v720H120Zm60-500h600v-160H180v160Zm220 220h160v-160H400v160Zm0 220h160v-160H400v160ZM180-400h160v-160H180v160Zm440 0h160v-160H620v160ZM180-180h160v-160H180v160Zm440 0h160v-160H620v160Z\"/>\n",
              "  </svg>\n",
              "    </button>\n",
              "\n",
              "  <style>\n",
              "    .colab-df-container {\n",
              "      display:flex;\n",
              "      gap: 12px;\n",
              "    }\n",
              "\n",
              "    .colab-df-convert {\n",
              "      background-color: #E8F0FE;\n",
              "      border: none;\n",
              "      border-radius: 50%;\n",
              "      cursor: pointer;\n",
              "      display: none;\n",
              "      fill: #1967D2;\n",
              "      height: 32px;\n",
              "      padding: 0 0 0 0;\n",
              "      width: 32px;\n",
              "    }\n",
              "\n",
              "    .colab-df-convert:hover {\n",
              "      background-color: #E2EBFA;\n",
              "      box-shadow: 0px 1px 2px rgba(60, 64, 67, 0.3), 0px 1px 3px 1px rgba(60, 64, 67, 0.15);\n",
              "      fill: #174EA6;\n",
              "    }\n",
              "\n",
              "    .colab-df-buttons div {\n",
              "      margin-bottom: 4px;\n",
              "    }\n",
              "\n",
              "    [theme=dark] .colab-df-convert {\n",
              "      background-color: #3B4455;\n",
              "      fill: #D2E3FC;\n",
              "    }\n",
              "\n",
              "    [theme=dark] .colab-df-convert:hover {\n",
              "      background-color: #434B5C;\n",
              "      box-shadow: 0px 1px 3px 1px rgba(0, 0, 0, 0.15);\n",
              "      filter: drop-shadow(0px 1px 2px rgba(0, 0, 0, 0.3));\n",
              "      fill: #FFFFFF;\n",
              "    }\n",
              "  </style>\n",
              "\n",
              "    <script>\n",
              "      const buttonEl =\n",
              "        document.querySelector('#df-e240faa0-7ba0-4dbb-97e5-9d790d476083 button.colab-df-convert');\n",
              "      buttonEl.style.display =\n",
              "        google.colab.kernel.accessAllowed ? 'block' : 'none';\n",
              "\n",
              "      async function convertToInteractive(key) {\n",
              "        const element = document.querySelector('#df-e240faa0-7ba0-4dbb-97e5-9d790d476083');\n",
              "        const dataTable =\n",
              "          await google.colab.kernel.invokeFunction('convertToInteractive',\n",
              "                                                    [key], {});\n",
              "        if (!dataTable) return;\n",
              "\n",
              "        const docLinkHtml = 'Like what you see? Visit the ' +\n",
              "          '<a target=\"_blank\" href=https://colab.research.google.com/notebooks/data_table.ipynb>data table notebook</a>'\n",
              "          + ' to learn more about interactive tables.';\n",
              "        element.innerHTML = '';\n",
              "        dataTable['output_type'] = 'display_data';\n",
              "        await google.colab.output.renderOutput(dataTable, element);\n",
              "        const docLink = document.createElement('div');\n",
              "        docLink.innerHTML = docLinkHtml;\n",
              "        element.appendChild(docLink);\n",
              "      }\n",
              "    </script>\n",
              "  </div>\n",
              "\n",
              "\n",
              "<div id=\"df-8403d486-3ca5-44f9-9508-ba69afeb674a\">\n",
              "  <button class=\"colab-df-quickchart\" onclick=\"quickchart('df-8403d486-3ca5-44f9-9508-ba69afeb674a')\"\n",
              "            title=\"Suggest charts\"\n",
              "            style=\"display:none;\">\n",
              "\n",
              "<svg xmlns=\"http://www.w3.org/2000/svg\" height=\"24px\"viewBox=\"0 0 24 24\"\n",
              "     width=\"24px\">\n",
              "    <g>\n",
              "        <path d=\"M19 3H5c-1.1 0-2 .9-2 2v14c0 1.1.9 2 2 2h14c1.1 0 2-.9 2-2V5c0-1.1-.9-2-2-2zM9 17H7v-7h2v7zm4 0h-2V7h2v10zm4 0h-2v-4h2v4z\"/>\n",
              "    </g>\n",
              "</svg>\n",
              "  </button>\n",
              "\n",
              "<style>\n",
              "  .colab-df-quickchart {\n",
              "      --bg-color: #E8F0FE;\n",
              "      --fill-color: #1967D2;\n",
              "      --hover-bg-color: #E2EBFA;\n",
              "      --hover-fill-color: #174EA6;\n",
              "      --disabled-fill-color: #AAA;\n",
              "      --disabled-bg-color: #DDD;\n",
              "  }\n",
              "\n",
              "  [theme=dark] .colab-df-quickchart {\n",
              "      --bg-color: #3B4455;\n",
              "      --fill-color: #D2E3FC;\n",
              "      --hover-bg-color: #434B5C;\n",
              "      --hover-fill-color: #FFFFFF;\n",
              "      --disabled-bg-color: #3B4455;\n",
              "      --disabled-fill-color: #666;\n",
              "  }\n",
              "\n",
              "  .colab-df-quickchart {\n",
              "    background-color: var(--bg-color);\n",
              "    border: none;\n",
              "    border-radius: 50%;\n",
              "    cursor: pointer;\n",
              "    display: none;\n",
              "    fill: var(--fill-color);\n",
              "    height: 32px;\n",
              "    padding: 0;\n",
              "    width: 32px;\n",
              "  }\n",
              "\n",
              "  .colab-df-quickchart:hover {\n",
              "    background-color: var(--hover-bg-color);\n",
              "    box-shadow: 0 1px 2px rgba(60, 64, 67, 0.3), 0 1px 3px 1px rgba(60, 64, 67, 0.15);\n",
              "    fill: var(--button-hover-fill-color);\n",
              "  }\n",
              "\n",
              "  .colab-df-quickchart-complete:disabled,\n",
              "  .colab-df-quickchart-complete:disabled:hover {\n",
              "    background-color: var(--disabled-bg-color);\n",
              "    fill: var(--disabled-fill-color);\n",
              "    box-shadow: none;\n",
              "  }\n",
              "\n",
              "  .colab-df-spinner {\n",
              "    border: 2px solid var(--fill-color);\n",
              "    border-color: transparent;\n",
              "    border-bottom-color: var(--fill-color);\n",
              "    animation:\n",
              "      spin 1s steps(1) infinite;\n",
              "  }\n",
              "\n",
              "  @keyframes spin {\n",
              "    0% {\n",
              "      border-color: transparent;\n",
              "      border-bottom-color: var(--fill-color);\n",
              "      border-left-color: var(--fill-color);\n",
              "    }\n",
              "    20% {\n",
              "      border-color: transparent;\n",
              "      border-left-color: var(--fill-color);\n",
              "      border-top-color: var(--fill-color);\n",
              "    }\n",
              "    30% {\n",
              "      border-color: transparent;\n",
              "      border-left-color: var(--fill-color);\n",
              "      border-top-color: var(--fill-color);\n",
              "      border-right-color: var(--fill-color);\n",
              "    }\n",
              "    40% {\n",
              "      border-color: transparent;\n",
              "      border-right-color: var(--fill-color);\n",
              "      border-top-color: var(--fill-color);\n",
              "    }\n",
              "    60% {\n",
              "      border-color: transparent;\n",
              "      border-right-color: var(--fill-color);\n",
              "    }\n",
              "    80% {\n",
              "      border-color: transparent;\n",
              "      border-right-color: var(--fill-color);\n",
              "      border-bottom-color: var(--fill-color);\n",
              "    }\n",
              "    90% {\n",
              "      border-color: transparent;\n",
              "      border-bottom-color: var(--fill-color);\n",
              "    }\n",
              "  }\n",
              "</style>\n",
              "\n",
              "  <script>\n",
              "    async function quickchart(key) {\n",
              "      const quickchartButtonEl =\n",
              "        document.querySelector('#' + key + ' button');\n",
              "      quickchartButtonEl.disabled = true;  // To prevent multiple clicks.\n",
              "      quickchartButtonEl.classList.add('colab-df-spinner');\n",
              "      try {\n",
              "        const charts = await google.colab.kernel.invokeFunction(\n",
              "            'suggestCharts', [key], {});\n",
              "      } catch (error) {\n",
              "        console.error('Error during call to suggestCharts:', error);\n",
              "      }\n",
              "      quickchartButtonEl.classList.remove('colab-df-spinner');\n",
              "      quickchartButtonEl.classList.add('colab-df-quickchart-complete');\n",
              "    }\n",
              "    (() => {\n",
              "      let quickchartButtonEl =\n",
              "        document.querySelector('#df-8403d486-3ca5-44f9-9508-ba69afeb674a button');\n",
              "      quickchartButtonEl.style.display =\n",
              "        google.colab.kernel.accessAllowed ? 'block' : 'none';\n",
              "    })();\n",
              "  </script>\n",
              "</div>\n",
              "\n",
              "    </div>\n",
              "  </div>\n"
            ],
            "application/vnd.google.colaboratory.intrinsic+json": {
              "type": "dataframe",
              "variable_name": "df",
              "summary": "{\n  \"name\": \"df\",\n  \"rows\": 65079,\n  \"fields\": [\n    {\n      \"column\": \"  userID\",\n      \"properties\": {\n        \"dtype\": \"string\",\n        \"num_unique_values\": 41747,\n        \"samples\": [\n          \"8ECFAD5A\",\n          \"64C7383F\",\n          \"4179A5A2\"\n        ],\n        \"semantic_type\": \"\",\n        \"description\": \"\"\n      }\n    },\n    {\n      \"column\": \"Track\",\n      \"properties\": {\n        \"dtype\": \"string\",\n        \"num_unique_values\": 39663,\n        \"samples\": [\n          \"Heartwork\",\n          \"Push Me Away\",\n          \"I'm Just a Freak for You\"\n        ],\n        \"semantic_type\": \"\",\n        \"description\": \"\"\n      }\n    },\n    {\n      \"column\": \"artist\",\n      \"properties\": {\n        \"dtype\": \"string\",\n        \"num_unique_values\": 37799,\n        \"samples\": [\n          \"Code3000\",\n          \"Michael J. Scott\",\n          \"Jasmine Brunch\"\n        ],\n        \"semantic_type\": \"\",\n        \"description\": \"\"\n      }\n    },\n    {\n      \"column\": \"genre\",\n      \"properties\": {\n        \"dtype\": \"category\",\n        \"num_unique_values\": 268,\n        \"samples\": [\n          \"breakbeat\",\n          \"hardstyle\",\n          \"dnb\"\n        ],\n        \"semantic_type\": \"\",\n        \"description\": \"\"\n      }\n    },\n    {\n      \"column\": \"  City  \",\n      \"properties\": {\n        \"dtype\": \"category\",\n        \"num_unique_values\": 2,\n        \"samples\": [\n          \"Akita\",\n          \"Newcastle\"\n        ],\n        \"semantic_type\": \"\",\n        \"description\": \"\"\n      }\n    },\n    {\n      \"column\": \"time\",\n      \"properties\": {\n        \"dtype\": \"object\",\n        \"num_unique_values\": 20392,\n        \"samples\": [\n          \"9:35:59\",\n          \"9:55:02\"\n        ],\n        \"semantic_type\": \"\",\n        \"description\": \"\"\n      }\n    },\n    {\n      \"column\": \"Day\",\n      \"properties\": {\n        \"dtype\": \"category\",\n        \"num_unique_values\": 3,\n        \"samples\": [\n          \"Wednesday\",\n          \"Friday\"\n        ],\n        \"semantic_type\": \"\",\n        \"description\": \"\"\n      }\n    }\n  ]\n}"
            }
          },
          "metadata": {},
          "execution_count": 178
        }
      ],
      "source": [
        "df.head(10)"
      ]
    },
    {
      "cell_type": "markdown",
      "metadata": {
        "id": "EO73Kwic_Zct"
      },
      "source": [
        "General information about the table"
      ]
    },
    {
      "cell_type": "code",
      "execution_count": null,
      "metadata": {
        "id": "DSf2kIb-_Zct",
        "outputId": "de9f0513-5a68-44e3-9864-e63078d66d0b",
        "colab": {
          "base_uri": "https://localhost:8080/"
        }
      },
      "outputs": [
        {
          "output_type": "stream",
          "name": "stdout",
          "text": [
            "<class 'pandas.core.frame.DataFrame'>\n",
            "RangeIndex: 65079 entries, 0 to 65078\n",
            "Data columns (total 7 columns):\n",
            " #   Column    Non-Null Count  Dtype \n",
            "---  ------    --------------  ----- \n",
            " 0     userID  65079 non-null  object\n",
            " 1   Track     63736 non-null  object\n",
            " 2   artist    57505 non-null  object\n",
            " 3   genre     63866 non-null  object\n",
            " 4     City    65064 non-null  object\n",
            " 5   time      65064 non-null  object\n",
            " 6   Day       65064 non-null  object\n",
            "dtypes: object(7)\n",
            "memory usage: 3.5+ MB\n",
            "None\n"
          ]
        }
      ],
      "source": [
        "print(df.info())"
      ]
    },
    {
      "cell_type": "markdown",
      "metadata": {
        "id": "TaQ2Iwbr_Zct"
      },
      "source": [
        "The table contains seven columns. All columns have the same data type: `object`.\n",
        "\n",
        "According to the documentation:\n",
        "- `'userID'` — user ID\n",
        "- `'Track'` — track title\n",
        "- `'artist'` — artist name\n",
        "- `'genre'`\n",
        "- `'City'` — user's city of origin\n",
        "- `'time'` — the time the track was played\n",
        "- `'Day'` — the day of the week\n",
        "\n",
        "Three issues with the column name formatting can be observed:\n",
        "1. Some names are written in uppercase, while others are in lowercase.\n",
        "2. Some names contain spaces.\n",
        "3. The `genre` column lacks documentation, such as a description like 'type of music.'\n",
        "\n",
        "It can also be observed that the number of values differs between columns. This indicates that the data contains missing values."
      ]
    },
    {
      "cell_type": "code",
      "execution_count": null,
      "metadata": {
        "id": "BjBegnh8uni9",
        "outputId": "b465af4b-9fb5-4491-e5d5-38ad22c6d2fd",
        "colab": {
          "base_uri": "https://localhost:8080/"
        }
      },
      "outputs": [
        {
          "output_type": "stream",
          "name": "stdout",
          "text": [
            "  userID       0\n",
            "Track       1343\n",
            "artist      7574\n",
            "genre       1213\n",
            "  City        15\n",
            "time          15\n",
            "Day           15\n",
            "dtype: int64\n"
          ]
        }
      ],
      "source": [
        "missing_values= df.isna().sum()\n",
        "print(missing_values)"
      ]
    },
    {
      "cell_type": "markdown",
      "metadata": {
        "id": "MCB6-dXG_Zct"
      },
      "source": [
        "### Conclusion\n",
        "\n",
        "Each row in the table stores data related to a track that was played. Some columns store data describing the track itself: track title, artist, and genre. The rest store data related to user information: their city of origin and the time they played the track.\n",
        "\n",
        "It is clear that the data is sufficient to test the hypothesis. Unfortunately, there are a number of missing values.\n",
        "\n",
        "To proceed with the analysis, data preprocessing will need to be performed first."
      ]
    },
    {
      "cell_type": "markdown",
      "metadata": {
        "id": "SjYF6Ub9_Zct"
      },
      "source": [
        "## Step 2. Data Preprocessing\n",
        "\n",
        "The format of the column headers should be corrected, and missing values should be addressed. After that, it should be checked whether the data contains duplicates."
      ]
    },
    {
      "cell_type": "markdown",
      "metadata": {
        "id": "dIaKXr29_Zct"
      },
      "source": [
        "### Column Header Formatting\n",
        "\n",
        "The column headers should be displayed:"
      ]
    },
    {
      "cell_type": "code",
      "execution_count": null,
      "metadata": {
        "id": "oKOTdF_Q_Zct",
        "outputId": "e8ce2852-7b45-40cb-91d4-bfc4c958ae18",
        "colab": {
          "base_uri": "https://localhost:8080/"
        }
      },
      "outputs": [
        {
          "output_type": "stream",
          "name": "stdout",
          "text": [
            "Index(['  userID', 'Track', 'artist', 'genre', '  City  ', 'time', 'Day'], dtype='object')\n"
          ]
        }
      ],
      "source": [
        "#A list containing the column names in the `df` table is displayed\n",
        "print(df.columns)"
      ]
    },
    {
      "cell_type": "markdown",
      "metadata": {
        "id": "zj5534cv_Zct"
      },
      "source": [
        "Column names should be changed according to good formatting rules:\n",
        "* If the column name consists of multiple words, use `snake_case`.\n",
        "* All characters should be in lowercase.\n",
        "* Remove spaces."
      ]
    },
    {
      "cell_type": "code",
      "execution_count": null,
      "metadata": {
        "id": "ISlFqs5y_Zct",
        "outputId": "e692ff46-46de-4ed4-8527-33a93642cf84",
        "colab": {
          "base_uri": "https://localhost:8080/"
        }
      },
      "outputs": [
        {
          "output_type": "stream",
          "name": "stdout",
          "text": [
            "Index(['user_id', 'track', 'artist', 'genre', 'city', 'time', 'day'], dtype='object')\n"
          ]
        }
      ],
      "source": [
        "# Change column name\n",
        "df = df.rename(columns={\n",
        "    '  userID': 'user_id',\n",
        "    'Track': 'track',\n",
        "    '  City  ': 'city',\n",
        "    'time': 'time',\n",
        "    'Day': 'day',\n",
        "})\n",
        "\n",
        "print(df.columns)"
      ]
    },
    {
      "cell_type": "code",
      "execution_count": null,
      "metadata": {
        "id": "d4NOAmTW_Zct",
        "outputId": "9a7cf863-4064-44fc-fd90-977e8ee381e2",
        "colab": {
          "base_uri": "https://localhost:8080/"
        }
      },
      "outputs": [
        {
          "output_type": "stream",
          "name": "stdout",
          "text": [
            "Index(['user_id', 'track', 'artist', 'genre', 'city', 'time', 'day'], dtype='object')\n"
          ]
        }
      ],
      "source": [
        "# Check the result\n",
        "df = df.rename(columns={\n",
        "    '  userID': 'user_id',\n",
        "    'Track': 'track',\n",
        "    '  City  ': 'city',\n",
        "    'time': 'time',\n",
        "    'Day': 'day',\n",
        "})\n",
        "\n",
        "print(df.columns)"
      ]
    },
    {
      "cell_type": "markdown",
      "metadata": {
        "id": "5ISfbcfY_Zct"
      },
      "source": [
        "### Missing Values\n",
        "\n",
        "First, the number of missing values in the table is determined. To do this, two `Pandas` methods is used:"
      ]
    },
    {
      "cell_type": "code",
      "execution_count": null,
      "metadata": {
        "id": "RskX29qr_Zct",
        "outputId": "8d74efc7-86c8-441c-a974-da53cc2f7ae9",
        "colab": {
          "base_uri": "https://localhost:8080/"
        }
      },
      "outputs": [
        {
          "output_type": "stream",
          "name": "stdout",
          "text": [
            "  userID       0\n",
            "Track       1343\n",
            "artist      7574\n",
            "genre       1213\n",
            "  City        15\n",
            "time          15\n",
            "Day           15\n",
            "dtype: int64\n"
          ]
        }
      ],
      "source": [
        "# Count missing value\n",
        "missing_values: df.isna().sum()\n",
        "print(missing_values)"
      ]
    },
    {
      "cell_type": "markdown",
      "metadata": {
        "id": "qubhgnlO_Zct"
      },
      "source": [
        "Not all missing values are impactful to the analysis. For instance, missing values in the `track` and `artist` columns are not very critical and should be replaced with a clear marker.\n",
        "\n",
        "However, missing values in the `'genre'` column could affect the comparison of music preferences in Akita and Newcastle. In real-world scenarios, it is useful to investigate the reasons behind missing data and attempt to address it. Unfortunately, this opportunity is not available in this project. Therefore, missing values should be:\n",
        "* Filled with markers\n",
        "* The impact of missing values on your calculations should be evaluated"
      ]
    },
    {
      "cell_type": "markdown",
      "metadata": {
        "id": "fSv2laPA_Zct"
      },
      "source": [
        "Missing values in the `'track'`, `'artist'`, and `'genre'` columns should be replaced with the string `'unknown'`. To do this, a list named `columns_to_replace` should be created, a `for` loop should be applied to the list, and missing values in each column should be replaced."
      ]
    },
    {
      "cell_type": "code",
      "execution_count": null,
      "metadata": {
        "id": "KplB5qWs_Zct",
        "outputId": "93adae78-9c42-4043-e98d-3dbe23ba7e3d",
        "colab": {
          "base_uri": "https://localhost:8080/",
          "height": 206
        }
      },
      "outputs": [
        {
          "output_type": "execute_result",
          "data": {
            "text/plain": [
              "    user_id                        track             artist  genre       city  \\\n",
              "0  FFB692EC            Kamigata To Boots   The Mass Missile   rock  Newcastle   \n",
              "1  55204538  Delayed Because of Accident  Andreas RÃ¶nnberg   rock      Akita   \n",
              "2    20EC38          FuniculÃ¬ funiculÃ         Mario Lanza    pop  Newcastle   \n",
              "3  A3DD03C9        Dragons in the Sunset         Fire + Ice   folk  Newcastle   \n",
              "4  E2DC1FAE                  Soul People         Space Echo  dance      Akita   \n",
              "\n",
              "       time        day  \n",
              "0  20:28:33  Wednesday  \n",
              "1  14:07:09     Friday  \n",
              "2  20:58:07  Wednesday  \n",
              "3   8:37:09     Monday  \n",
              "4   8:34:34     Monday  "
            ],
            "text/html": [
              "\n",
              "  <div id=\"df-61b17739-a522-4a8c-8903-4f842b18bf39\" class=\"colab-df-container\">\n",
              "    <div>\n",
              "<style scoped>\n",
              "    .dataframe tbody tr th:only-of-type {\n",
              "        vertical-align: middle;\n",
              "    }\n",
              "\n",
              "    .dataframe tbody tr th {\n",
              "        vertical-align: top;\n",
              "    }\n",
              "\n",
              "    .dataframe thead th {\n",
              "        text-align: right;\n",
              "    }\n",
              "</style>\n",
              "<table border=\"1\" class=\"dataframe\">\n",
              "  <thead>\n",
              "    <tr style=\"text-align: right;\">\n",
              "      <th></th>\n",
              "      <th>user_id</th>\n",
              "      <th>track</th>\n",
              "      <th>artist</th>\n",
              "      <th>genre</th>\n",
              "      <th>city</th>\n",
              "      <th>time</th>\n",
              "      <th>day</th>\n",
              "    </tr>\n",
              "  </thead>\n",
              "  <tbody>\n",
              "    <tr>\n",
              "      <th>0</th>\n",
              "      <td>FFB692EC</td>\n",
              "      <td>Kamigata To Boots</td>\n",
              "      <td>The Mass Missile</td>\n",
              "      <td>rock</td>\n",
              "      <td>Newcastle</td>\n",
              "      <td>20:28:33</td>\n",
              "      <td>Wednesday</td>\n",
              "    </tr>\n",
              "    <tr>\n",
              "      <th>1</th>\n",
              "      <td>55204538</td>\n",
              "      <td>Delayed Because of Accident</td>\n",
              "      <td>Andreas RÃ¶nnberg</td>\n",
              "      <td>rock</td>\n",
              "      <td>Akita</td>\n",
              "      <td>14:07:09</td>\n",
              "      <td>Friday</td>\n",
              "    </tr>\n",
              "    <tr>\n",
              "      <th>2</th>\n",
              "      <td>20EC38</td>\n",
              "      <td>FuniculÃ¬ funiculÃ</td>\n",
              "      <td>Mario Lanza</td>\n",
              "      <td>pop</td>\n",
              "      <td>Newcastle</td>\n",
              "      <td>20:58:07</td>\n",
              "      <td>Wednesday</td>\n",
              "    </tr>\n",
              "    <tr>\n",
              "      <th>3</th>\n",
              "      <td>A3DD03C9</td>\n",
              "      <td>Dragons in the Sunset</td>\n",
              "      <td>Fire + Ice</td>\n",
              "      <td>folk</td>\n",
              "      <td>Newcastle</td>\n",
              "      <td>8:37:09</td>\n",
              "      <td>Monday</td>\n",
              "    </tr>\n",
              "    <tr>\n",
              "      <th>4</th>\n",
              "      <td>E2DC1FAE</td>\n",
              "      <td>Soul People</td>\n",
              "      <td>Space Echo</td>\n",
              "      <td>dance</td>\n",
              "      <td>Akita</td>\n",
              "      <td>8:34:34</td>\n",
              "      <td>Monday</td>\n",
              "    </tr>\n",
              "  </tbody>\n",
              "</table>\n",
              "</div>\n",
              "    <div class=\"colab-df-buttons\">\n",
              "\n",
              "  <div class=\"colab-df-container\">\n",
              "    <button class=\"colab-df-convert\" onclick=\"convertToInteractive('df-61b17739-a522-4a8c-8903-4f842b18bf39')\"\n",
              "            title=\"Convert this dataframe to an interactive table.\"\n",
              "            style=\"display:none;\">\n",
              "\n",
              "  <svg xmlns=\"http://www.w3.org/2000/svg\" height=\"24px\" viewBox=\"0 -960 960 960\">\n",
              "    <path d=\"M120-120v-720h720v720H120Zm60-500h600v-160H180v160Zm220 220h160v-160H400v160Zm0 220h160v-160H400v160ZM180-400h160v-160H180v160Zm440 0h160v-160H620v160ZM180-180h160v-160H180v160Zm440 0h160v-160H620v160Z\"/>\n",
              "  </svg>\n",
              "    </button>\n",
              "\n",
              "  <style>\n",
              "    .colab-df-container {\n",
              "      display:flex;\n",
              "      gap: 12px;\n",
              "    }\n",
              "\n",
              "    .colab-df-convert {\n",
              "      background-color: #E8F0FE;\n",
              "      border: none;\n",
              "      border-radius: 50%;\n",
              "      cursor: pointer;\n",
              "      display: none;\n",
              "      fill: #1967D2;\n",
              "      height: 32px;\n",
              "      padding: 0 0 0 0;\n",
              "      width: 32px;\n",
              "    }\n",
              "\n",
              "    .colab-df-convert:hover {\n",
              "      background-color: #E2EBFA;\n",
              "      box-shadow: 0px 1px 2px rgba(60, 64, 67, 0.3), 0px 1px 3px 1px rgba(60, 64, 67, 0.15);\n",
              "      fill: #174EA6;\n",
              "    }\n",
              "\n",
              "    .colab-df-buttons div {\n",
              "      margin-bottom: 4px;\n",
              "    }\n",
              "\n",
              "    [theme=dark] .colab-df-convert {\n",
              "      background-color: #3B4455;\n",
              "      fill: #D2E3FC;\n",
              "    }\n",
              "\n",
              "    [theme=dark] .colab-df-convert:hover {\n",
              "      background-color: #434B5C;\n",
              "      box-shadow: 0px 1px 3px 1px rgba(0, 0, 0, 0.15);\n",
              "      filter: drop-shadow(0px 1px 2px rgba(0, 0, 0, 0.3));\n",
              "      fill: #FFFFFF;\n",
              "    }\n",
              "  </style>\n",
              "\n",
              "    <script>\n",
              "      const buttonEl =\n",
              "        document.querySelector('#df-61b17739-a522-4a8c-8903-4f842b18bf39 button.colab-df-convert');\n",
              "      buttonEl.style.display =\n",
              "        google.colab.kernel.accessAllowed ? 'block' : 'none';\n",
              "\n",
              "      async function convertToInteractive(key) {\n",
              "        const element = document.querySelector('#df-61b17739-a522-4a8c-8903-4f842b18bf39');\n",
              "        const dataTable =\n",
              "          await google.colab.kernel.invokeFunction('convertToInteractive',\n",
              "                                                    [key], {});\n",
              "        if (!dataTable) return;\n",
              "\n",
              "        const docLinkHtml = 'Like what you see? Visit the ' +\n",
              "          '<a target=\"_blank\" href=https://colab.research.google.com/notebooks/data_table.ipynb>data table notebook</a>'\n",
              "          + ' to learn more about interactive tables.';\n",
              "        element.innerHTML = '';\n",
              "        dataTable['output_type'] = 'display_data';\n",
              "        await google.colab.output.renderOutput(dataTable, element);\n",
              "        const docLink = document.createElement('div');\n",
              "        docLink.innerHTML = docLinkHtml;\n",
              "        element.appendChild(docLink);\n",
              "      }\n",
              "    </script>\n",
              "  </div>\n",
              "\n",
              "\n",
              "<div id=\"df-a6c0720e-42a3-4a5d-b2fe-e4a4399b4299\">\n",
              "  <button class=\"colab-df-quickchart\" onclick=\"quickchart('df-a6c0720e-42a3-4a5d-b2fe-e4a4399b4299')\"\n",
              "            title=\"Suggest charts\"\n",
              "            style=\"display:none;\">\n",
              "\n",
              "<svg xmlns=\"http://www.w3.org/2000/svg\" height=\"24px\"viewBox=\"0 0 24 24\"\n",
              "     width=\"24px\">\n",
              "    <g>\n",
              "        <path d=\"M19 3H5c-1.1 0-2 .9-2 2v14c0 1.1.9 2 2 2h14c1.1 0 2-.9 2-2V5c0-1.1-.9-2-2-2zM9 17H7v-7h2v7zm4 0h-2V7h2v10zm4 0h-2v-4h2v4z\"/>\n",
              "    </g>\n",
              "</svg>\n",
              "  </button>\n",
              "\n",
              "<style>\n",
              "  .colab-df-quickchart {\n",
              "      --bg-color: #E8F0FE;\n",
              "      --fill-color: #1967D2;\n",
              "      --hover-bg-color: #E2EBFA;\n",
              "      --hover-fill-color: #174EA6;\n",
              "      --disabled-fill-color: #AAA;\n",
              "      --disabled-bg-color: #DDD;\n",
              "  }\n",
              "\n",
              "  [theme=dark] .colab-df-quickchart {\n",
              "      --bg-color: #3B4455;\n",
              "      --fill-color: #D2E3FC;\n",
              "      --hover-bg-color: #434B5C;\n",
              "      --hover-fill-color: #FFFFFF;\n",
              "      --disabled-bg-color: #3B4455;\n",
              "      --disabled-fill-color: #666;\n",
              "  }\n",
              "\n",
              "  .colab-df-quickchart {\n",
              "    background-color: var(--bg-color);\n",
              "    border: none;\n",
              "    border-radius: 50%;\n",
              "    cursor: pointer;\n",
              "    display: none;\n",
              "    fill: var(--fill-color);\n",
              "    height: 32px;\n",
              "    padding: 0;\n",
              "    width: 32px;\n",
              "  }\n",
              "\n",
              "  .colab-df-quickchart:hover {\n",
              "    background-color: var(--hover-bg-color);\n",
              "    box-shadow: 0 1px 2px rgba(60, 64, 67, 0.3), 0 1px 3px 1px rgba(60, 64, 67, 0.15);\n",
              "    fill: var(--button-hover-fill-color);\n",
              "  }\n",
              "\n",
              "  .colab-df-quickchart-complete:disabled,\n",
              "  .colab-df-quickchart-complete:disabled:hover {\n",
              "    background-color: var(--disabled-bg-color);\n",
              "    fill: var(--disabled-fill-color);\n",
              "    box-shadow: none;\n",
              "  }\n",
              "\n",
              "  .colab-df-spinner {\n",
              "    border: 2px solid var(--fill-color);\n",
              "    border-color: transparent;\n",
              "    border-bottom-color: var(--fill-color);\n",
              "    animation:\n",
              "      spin 1s steps(1) infinite;\n",
              "  }\n",
              "\n",
              "  @keyframes spin {\n",
              "    0% {\n",
              "      border-color: transparent;\n",
              "      border-bottom-color: var(--fill-color);\n",
              "      border-left-color: var(--fill-color);\n",
              "    }\n",
              "    20% {\n",
              "      border-color: transparent;\n",
              "      border-left-color: var(--fill-color);\n",
              "      border-top-color: var(--fill-color);\n",
              "    }\n",
              "    30% {\n",
              "      border-color: transparent;\n",
              "      border-left-color: var(--fill-color);\n",
              "      border-top-color: var(--fill-color);\n",
              "      border-right-color: var(--fill-color);\n",
              "    }\n",
              "    40% {\n",
              "      border-color: transparent;\n",
              "      border-right-color: var(--fill-color);\n",
              "      border-top-color: var(--fill-color);\n",
              "    }\n",
              "    60% {\n",
              "      border-color: transparent;\n",
              "      border-right-color: var(--fill-color);\n",
              "    }\n",
              "    80% {\n",
              "      border-color: transparent;\n",
              "      border-right-color: var(--fill-color);\n",
              "      border-bottom-color: var(--fill-color);\n",
              "    }\n",
              "    90% {\n",
              "      border-color: transparent;\n",
              "      border-bottom-color: var(--fill-color);\n",
              "    }\n",
              "  }\n",
              "</style>\n",
              "\n",
              "  <script>\n",
              "    async function quickchart(key) {\n",
              "      const quickchartButtonEl =\n",
              "        document.querySelector('#' + key + ' button');\n",
              "      quickchartButtonEl.disabled = true;  // To prevent multiple clicks.\n",
              "      quickchartButtonEl.classList.add('colab-df-spinner');\n",
              "      try {\n",
              "        const charts = await google.colab.kernel.invokeFunction(\n",
              "            'suggestCharts', [key], {});\n",
              "      } catch (error) {\n",
              "        console.error('Error during call to suggestCharts:', error);\n",
              "      }\n",
              "      quickchartButtonEl.classList.remove('colab-df-spinner');\n",
              "      quickchartButtonEl.classList.add('colab-df-quickchart-complete');\n",
              "    }\n",
              "    (() => {\n",
              "      let quickchartButtonEl =\n",
              "        document.querySelector('#df-a6c0720e-42a3-4a5d-b2fe-e4a4399b4299 button');\n",
              "      quickchartButtonEl.style.display =\n",
              "        google.colab.kernel.accessAllowed ? 'block' : 'none';\n",
              "    })();\n",
              "  </script>\n",
              "</div>\n",
              "\n",
              "    </div>\n",
              "  </div>\n"
            ],
            "application/vnd.google.colaboratory.intrinsic+json": {
              "type": "dataframe",
              "variable_name": "df",
              "summary": "{\n  \"name\": \"df\",\n  \"rows\": 65079,\n  \"fields\": [\n    {\n      \"column\": \"user_id\",\n      \"properties\": {\n        \"dtype\": \"string\",\n        \"num_unique_values\": 41747,\n        \"samples\": [\n          \"8ECFAD5A\",\n          \"64C7383F\",\n          \"4179A5A2\"\n        ],\n        \"semantic_type\": \"\",\n        \"description\": \"\"\n      }\n    },\n    {\n      \"column\": \"track\",\n      \"properties\": {\n        \"dtype\": \"string\",\n        \"num_unique_values\": 39664,\n        \"samples\": [\n          \"Pool Party Music\",\n          \"First Last Kiss\",\n          \"Albatross\"\n        ],\n        \"semantic_type\": \"\",\n        \"description\": \"\"\n      }\n    },\n    {\n      \"column\": \"artist\",\n      \"properties\": {\n        \"dtype\": \"string\",\n        \"num_unique_values\": 37800,\n        \"samples\": [\n          \"Birch Book\",\n          \"C Z A R I N A\",\n          \"Emanuel Carpus\"\n        ],\n        \"semantic_type\": \"\",\n        \"description\": \"\"\n      }\n    },\n    {\n      \"column\": \"genre\",\n      \"properties\": {\n        \"dtype\": \"category\",\n        \"num_unique_values\": 269,\n        \"samples\": [\n          \"posthardcore\",\n          \"breakbeat\",\n          \"deep\"\n        ],\n        \"semantic_type\": \"\",\n        \"description\": \"\"\n      }\n    },\n    {\n      \"column\": \"city\",\n      \"properties\": {\n        \"dtype\": \"category\",\n        \"num_unique_values\": 2,\n        \"samples\": [\n          \"Akita\",\n          \"Newcastle\"\n        ],\n        \"semantic_type\": \"\",\n        \"description\": \"\"\n      }\n    },\n    {\n      \"column\": \"time\",\n      \"properties\": {\n        \"dtype\": \"object\",\n        \"num_unique_values\": 20392,\n        \"samples\": [\n          \"9:35:59\",\n          \"9:55:02\"\n        ],\n        \"semantic_type\": \"\",\n        \"description\": \"\"\n      }\n    },\n    {\n      \"column\": \"day\",\n      \"properties\": {\n        \"dtype\": \"category\",\n        \"num_unique_values\": 3,\n        \"samples\": [\n          \"Wednesday\",\n          \"Friday\"\n        ],\n        \"semantic_type\": \"\",\n        \"description\": \"\"\n      }\n    }\n  ]\n}"
            }
          },
          "metadata": {},
          "execution_count": 185
        }
      ],
      "source": [
        "#A loop should be applied to the column names to replace missing values with `'unknown'`.\n",
        "columns_to_replace = ['track', 'artist', 'genre']\n",
        "\n",
        "for replace in columns_to_replace:\n",
        "    df[replace] = df[replace].fillna('unknown')\n",
        "\n",
        "df.head()"
      ]
    },
    {
      "cell_type": "markdown",
      "metadata": {
        "id": "Ilsm-MZo_Zct"
      },
      "source": [
        "Make sure no more tables contain missing values. Recalculate missing values."
      ]
    },
    {
      "cell_type": "code",
      "execution_count": null,
      "metadata": {
        "id": "Tq4nYRX4_Zct",
        "outputId": "6554d139-69e1-4eb9-a9cf-744f3bff5d7d",
        "colab": {
          "base_uri": "https://localhost:8080/"
        }
      },
      "outputs": [
        {
          "output_type": "stream",
          "name": "stdout",
          "text": [
            "user_id     0\n",
            "track       0\n",
            "artist      0\n",
            "genre       0\n",
            "city       15\n",
            "time       15\n",
            "day        15\n",
            "dtype: int64\n"
          ]
        }
      ],
      "source": [
        "# Count missing value\n",
        "missing_values = df.isna().sum()\n",
        "print(missing_values)"
      ]
    },
    {
      "cell_type": "markdown",
      "metadata": {
        "id": "BWKRtBJ3_Zct"
      },
      "source": [
        "### Duplicates\n"
      ]
    },
    {
      "cell_type": "code",
      "execution_count": null,
      "metadata": {
        "id": "36eES_S0_Zct",
        "outputId": "96d4c7c6-37cf-4c46-c72b-879f929acb5e",
        "colab": {
          "base_uri": "https://localhost:8080/"
        }
      },
      "outputs": [
        {
          "output_type": "stream",
          "name": "stdout",
          "text": [
            "3826\n"
          ]
        }
      ],
      "source": [
        "# Count explicit duplicates\n",
        "explicit_duplicates = df.duplicated().sum()\n",
        "print(explicit_duplicates)"
      ]
    },
    {
      "cell_type": "code",
      "execution_count": null,
      "metadata": {
        "id": "exFHq6tt_Zct",
        "outputId": "3f79349a-9af0-4feb-8584-6f7c8edab6ed",
        "colab": {
          "base_uri": "https://localhost:8080/"
        }
      },
      "outputs": [
        {
          "output_type": "stream",
          "name": "stdout",
          "text": [
            "        user_id                              track             artist  \\\n",
            "0      FFB692EC                  Kamigata To Boots   The Mass Missile   \n",
            "1      55204538        Delayed Because of Accident  Andreas RÃ¶nnberg   \n",
            "2        20EC38                FuniculÃ¬ funiculÃ         Mario Lanza   \n",
            "3      A3DD03C9              Dragons in the Sunset         Fire + Ice   \n",
            "4      E2DC1FAE                        Soul People         Space Echo   \n",
            "...         ...                                ...                ...   \n",
            "61248  729CBB09                            My Name             McLean   \n",
            "61249  D08D4A55  Maybe One Day (feat. Black Spade)        Blu & Exile   \n",
            "61250  C5E3A0D5                          Jalopiina            unknown   \n",
            "61251  321D0506                      Freight Train      Chas McDevitt   \n",
            "61252  3A64EF84          Tell Me Sweet Little Lies       Monica Lopez   \n",
            "\n",
            "            genre       city      time        day  \n",
            "0            rock  Newcastle  20:28:33  Wednesday  \n",
            "1            rock      Akita  14:07:09     Friday  \n",
            "2             pop  Newcastle  20:58:07  Wednesday  \n",
            "3            folk  Newcastle   8:37:09     Monday  \n",
            "4           dance      Akita   8:34:34     Monday  \n",
            "...           ...        ...       ...        ...  \n",
            "61248         rnb      Akita  13:32:28  Wednesday  \n",
            "61249         hip  Newcastle  10:00:00     Monday  \n",
            "61250  industrial      Akita  20:09:26     Friday  \n",
            "61251        rock      Akita  21:43:59     Friday  \n",
            "61252     country      Akita  21:59:46     Friday  \n",
            "\n",
            "[61253 rows x 7 columns]\n"
          ]
        }
      ],
      "source": [
        "# Delete explicit duplicate\n",
        "delete_explicit_duplicate = df.drop_duplicates().reset_index(drop=True)\n",
        "print(delete_explicit_duplicate)"
      ]
    },
    {
      "cell_type": "code",
      "execution_count": null,
      "metadata": {
        "id": "-8PuNWQ0_Zct",
        "outputId": "cca73048-7b64-4e85-9833-c44245edc237",
        "colab": {
          "base_uri": "https://localhost:8080/"
        }
      },
      "outputs": [
        {
          "output_type": "stream",
          "name": "stdout",
          "text": [
            "0\n"
          ]
        }
      ],
      "source": [
        "# Check and count the number of duplicate\n",
        "tracking_duplicates= delete_explicit_duplicate.duplicated().sum()\n",
        "print(tracking_duplicates)"
      ]
    },
    {
      "cell_type": "markdown",
      "metadata": {
        "id": "QlFBsxAr_Zct"
      },
      "source": [
        "Now, implicit duplicates in the `genre` column should be removed. For example, different spellings of the same genre name are examples of implicit duplicates. Such errors can also affect the results of the analysis."
      ]
    },
    {
      "cell_type": "markdown",
      "metadata": {
        "id": "eSjWwsOh_Zct"
      },
      "source": [
        "**To display a list of unique genre names sorted alphabetically:**\n",
        "* The desired DataFrame column should be selected.\n",
        "* The sorting method should be applied to that column.\n",
        "* The method that returns all unique values of the column should be called on the sorted column."
      ]
    },
    {
      "cell_type": "code",
      "execution_count": null,
      "metadata": {
        "id": "JIUcqzZN_Zct",
        "outputId": "be79c9e4-7cde-4e18-a1a0-bb5db1e4ccce",
        "colab": {
          "base_uri": "https://localhost:8080/"
        }
      },
      "outputs": [
        {
          "output_type": "stream",
          "name": "stdout",
          "text": [
            "['acid' 'acoustic' 'action' 'adult' 'africa' 'afrikaans' 'alternative'\n",
            " 'ambient' 'americana' 'animated' 'anime' 'arabesk' 'arabic' 'arena'\n",
            " 'argentinetango' 'art' 'audiobook' 'avantgarde' 'axÃ©' 'baile' 'balkan'\n",
            " 'beats' 'bigroom' 'black' 'bluegrass' 'blues' 'bollywood' 'bossa'\n",
            " 'brazilian' 'breakbeat' 'breaks' 'broadway' 'cantautori' 'cantopop'\n",
            " 'canzone' 'caribbean' 'caucasian' 'celtic' 'chamber' 'children' 'chill'\n",
            " 'chinese' 'choral' 'christian' 'christmas' 'classical' 'classicmetal'\n",
            " 'club' 'colombian' 'comedy' 'conjazz' 'contemporary' 'country' 'cuban'\n",
            " 'dance' 'dancehall' 'dancepop' 'dark' 'death' 'deep' 'deutschrock'\n",
            " 'deutschspr' 'dirty' 'disco' 'dnb' 'documentary' 'downbeat' 'downtempo'\n",
            " 'drum' 'dub' 'dubstep' 'eastern' 'easy' 'electronic' 'electropop' 'emo'\n",
            " 'entehno' 'epicmetal' 'estrada' 'ethnic' 'eurofolk' 'european'\n",
            " 'experimental' 'extrememetal' 'fado' 'film' 'fitness' 'flamenco' 'folk'\n",
            " 'folklore' 'folkmetal' 'folkrock' 'folktronica' 'forrÃ³' 'frankreich'\n",
            " 'franzÃ¶sisch' 'french' 'funk' 'future' 'gangsta' 'garage' 'german'\n",
            " 'ghazal' 'gitarre' 'glitch' 'gospel' 'gothic' 'grime' 'grunge' 'gypsy'\n",
            " 'handsup' \"hard'n'heavy\" 'hardcore' 'hardstyle' 'hardtechno' 'hip'\n",
            " 'hip-hop' 'hiphop' 'historisch' 'holiday' 'hop' 'horror' 'house' 'idm'\n",
            " 'independent' 'indian' 'indie' 'indipop' 'industrial' 'inspirational'\n",
            " 'instrumental' 'international' 'irish' 'jam' 'japanese' 'jazz' 'jewish'\n",
            " 'jpop' 'jungle' 'k-pop' 'karadeniz' 'karaoke' 'kayokyoku' 'korean'\n",
            " 'laiko' 'latin' 'latino' 'leftfield' 'local' 'lounge' 'loungeelectronic'\n",
            " 'lovers' 'malaysian' 'mandopop' 'marschmusik' 'meditative'\n",
            " 'mediterranean' 'melodic' 'metal' 'metalcore' 'mexican' 'middle'\n",
            " 'minimal' 'miscellaneous' 'modern' 'mood' 'mpb' 'muslim' 'native'\n",
            " 'neoklassik' 'neue' 'new' 'newage' 'newwave' 'nu' 'nujazz' 'numetal'\n",
            " 'oceania' 'old' 'opera' 'orchestral' 'other' 'piano' 'pop'\n",
            " 'popelectronic' 'popeurodance' 'post' 'posthardcore' 'postrock' 'power'\n",
            " 'progmetal' 'progressive' 'psychedelic' 'punjabi' 'punk' 'quebecois'\n",
            " 'ragga' 'ram' 'rancheras' 'rap' 'rave' 'reggae' 'reggaeton' 'regional'\n",
            " 'relax' 'religious' 'retro' 'rhythm' 'rnb' 'rnr' 'rock' 'rockabilly'\n",
            " 'romance' 'roots' 'ruspop' 'rusrap' 'rusrock' 'salsa' 'samba' 'schlager'\n",
            " 'self' 'sertanejo' 'shoegazing' 'showtunes' 'singer' 'ska' 'slow'\n",
            " 'smooth' 'soul' 'soulful' 'sound' 'soundtrack' 'southern' 'specialty'\n",
            " 'speech' 'spiritual' 'sport' 'stonerrock' 'surf' 'swing' 'synthpop'\n",
            " 'sÃ¤ngerportrait' 'tango' 'tanzorchester' 'taraftar' 'tech' 'techno'\n",
            " 'thrash' 'top' 'traditional' 'tradjazz' 'trance' 'tribal' 'trip'\n",
            " 'triphop' 'tropical' 'tÃ¼rk' 'tÃ¼rkÃ§e' 'unknown' 'urban' 'uzbek'\n",
            " 'variÃ©tÃ©' 'vi' 'videogame' 'vocal' 'western' 'world' 'worldbeat'\n",
            " 'Ã¯Ã®Ã¯']\n"
          ]
        }
      ],
      "source": [
        "# Showing Unique Genre Name\n",
        "genre_columns = df['genre']\n",
        "unique_genre = genre_columns.sort_values().unique()\n",
        "print(unique_genre)"
      ]
    },
    {
      "cell_type": "markdown",
      "metadata": {
        "id": "qej-Qmuo_Zct"
      },
      "source": [
        "**Examine the displayed list carefully to find implicit duplicates of the genre `hiphop`. These duplicates could be misspelled names or alternative names for the same genre.**\n",
        "\n",
        "You will see the following implicit duplicates:\n",
        "* `hip`\n",
        "* `hop`\n",
        "* `hip-hop`\n",
        "\n",
        "To remove them, the `replace_wrong_genres()` function should be used with two parameters:\n",
        "* `wrong_genres=` — a list of the duplicates to be replaced\n",
        "* `correct_genre=` — a string with the correct value\n",
        "\n",
        "The function should correct the names in the `'genre'` column of the `df` table, replacing each value in the `wrong_genres` list with the `correct_genre` value."
      ]
    },
    {
      "cell_type": "code",
      "execution_count": null,
      "metadata": {
        "id": "ErNDkmns_Zct"
      },
      "outputs": [],
      "source": [
        "# Insert a function that replaces implicit duplicates.\n",
        "def replace_wrong_genres(wrong_genres, correct_genre):\n",
        "    df['genre'] = df['genre'].replace(wrong_genres, correct_genre)\n",
        "\n",
        "wrong_genres = ['hip', 'hop', 'hip-hop']\n",
        "\n",
        "correct_genre = 'hiphop'"
      ]
    },
    {
      "cell_type": "markdown",
      "metadata": {
        "id": "aDoBJxbA_Zct"
      },
      "source": [
        "Call replace_wrong_genres() and pass the arguments to the function, so that implicit duplicates (hip, hop, and hip-hop) can be removed and replaced with hiphop"
      ]
    },
    {
      "cell_type": "code",
      "execution_count": null,
      "metadata": {
        "id": "YN5i2hpmSo09",
        "outputId": "932d15c7-99f3-4bcd-ff75-e0409d49804e",
        "colab": {
          "base_uri": "https://localhost:8080/"
        }
      },
      "outputs": [
        {
          "output_type": "stream",
          "name": "stdout",
          "text": [
            "        user_id                              track             artist  \\\n",
            "0      FFB692EC                  Kamigata To Boots   The Mass Missile   \n",
            "1      55204538        Delayed Because of Accident  Andreas RÃ¶nnberg   \n",
            "2        20EC38                FuniculÃ¬ funiculÃ         Mario Lanza   \n",
            "3      A3DD03C9              Dragons in the Sunset         Fire + Ice   \n",
            "4      E2DC1FAE                        Soul People         Space Echo   \n",
            "...         ...                                ...                ...   \n",
            "65074  729CBB09                            My Name             McLean   \n",
            "65075  D08D4A55  Maybe One Day (feat. Black Spade)        Blu & Exile   \n",
            "65076  C5E3A0D5                          Jalopiina            unknown   \n",
            "65077  321D0506                      Freight Train      Chas McDevitt   \n",
            "65078  3A64EF84          Tell Me Sweet Little Lies       Monica Lopez   \n",
            "\n",
            "            genre       city      time        day  \n",
            "0            rock  Newcastle  20:28:33  Wednesday  \n",
            "1            rock      Akita  14:07:09     Friday  \n",
            "2             pop  Newcastle  20:58:07  Wednesday  \n",
            "3            folk  Newcastle   8:37:09     Monday  \n",
            "4           dance      Akita   8:34:34     Monday  \n",
            "...           ...        ...       ...        ...  \n",
            "65074         rnb      Akita  13:32:28  Wednesday  \n",
            "65075      hiphop  Newcastle  10:00:00     Monday  \n",
            "65076  industrial      Akita  20:09:26     Friday  \n",
            "65077        rock      Akita  21:43:59     Friday  \n",
            "65078     country      Akita  21:59:46     Friday  \n",
            "\n",
            "[65079 rows x 7 columns]\n"
          ]
        }
      ],
      "source": [
        "# Delete implicit duplicates\n",
        "replace_wrong_genres(wrong_genres, correct_genre)\n",
        "print(df)"
      ]
    },
    {
      "cell_type": "markdown",
      "metadata": {
        "id": "zQKF16_RG15m"
      },
      "source": [
        "\"Ensure that duplicated values have been removed. Display the list of unique values from the `'genre'` column.\""
      ]
    },
    {
      "cell_type": "code",
      "execution_count": null,
      "metadata": {
        "id": "wvixALnFG15m",
        "outputId": "12f1c16a-d8fa-41cf-a1a6-b855f7ef5644",
        "colab": {
          "base_uri": "https://localhost:8080/"
        }
      },
      "outputs": [
        {
          "output_type": "stream",
          "name": "stdout",
          "text": [
            "64813\n"
          ]
        }
      ],
      "source": [
        "# Check implicit duplicates\n",
        "check_duplicates = df['genre'].duplicated().sum()\n",
        "print(check_duplicates)"
      ]
    },
    {
      "cell_type": "code",
      "execution_count": null,
      "metadata": {
        "id": "x4fCZbisunjE",
        "outputId": "5550e769-ab7a-42b6-a3c7-7291ea9f38c3",
        "colab": {
          "base_uri": "https://localhost:8080/"
        }
      },
      "outputs": [
        {
          "output_type": "stream",
          "name": "stdout",
          "text": [
            "['acid' 'acoustic' 'action' 'adult' 'africa' 'afrikaans' 'alternative'\n",
            " 'ambient' 'americana' 'animated' 'anime' 'arabesk' 'arabic' 'arena'\n",
            " 'argentinetango' 'art' 'audiobook' 'avantgarde' 'axÃ©' 'baile' 'balkan'\n",
            " 'beats' 'bigroom' 'black' 'bluegrass' 'blues' 'bollywood' 'bossa'\n",
            " 'brazilian' 'breakbeat' 'breaks' 'broadway' 'cantautori' 'cantopop'\n",
            " 'canzone' 'caribbean' 'caucasian' 'celtic' 'chamber' 'children' 'chill'\n",
            " 'chinese' 'choral' 'christian' 'christmas' 'classical' 'classicmetal'\n",
            " 'club' 'colombian' 'comedy' 'conjazz' 'contemporary' 'country' 'cuban'\n",
            " 'dance' 'dancehall' 'dancepop' 'dark' 'death' 'deep' 'deutschrock'\n",
            " 'deutschspr' 'dirty' 'disco' 'dnb' 'documentary' 'downbeat' 'downtempo'\n",
            " 'drum' 'dub' 'dubstep' 'eastern' 'easy' 'electronic' 'electropop' 'emo'\n",
            " 'entehno' 'epicmetal' 'estrada' 'ethnic' 'eurofolk' 'european'\n",
            " 'experimental' 'extrememetal' 'fado' 'film' 'fitness' 'flamenco' 'folk'\n",
            " 'folklore' 'folkmetal' 'folkrock' 'folktronica' 'forrÃ³' 'frankreich'\n",
            " 'franzÃ¶sisch' 'french' 'funk' 'future' 'gangsta' 'garage' 'german'\n",
            " 'ghazal' 'gitarre' 'glitch' 'gospel' 'gothic' 'grime' 'grunge' 'gypsy'\n",
            " 'handsup' \"hard'n'heavy\" 'hardcore' 'hardstyle' 'hardtechno' 'hiphop'\n",
            " 'historisch' 'holiday' 'horror' 'house' 'idm' 'independent' 'indian'\n",
            " 'indie' 'indipop' 'industrial' 'inspirational' 'instrumental'\n",
            " 'international' 'irish' 'jam' 'japanese' 'jazz' 'jewish' 'jpop' 'jungle'\n",
            " 'k-pop' 'karadeniz' 'karaoke' 'kayokyoku' 'korean' 'laiko' 'latin'\n",
            " 'latino' 'leftfield' 'local' 'lounge' 'loungeelectronic' 'lovers'\n",
            " 'malaysian' 'mandopop' 'marschmusik' 'meditative' 'mediterranean'\n",
            " 'melodic' 'metal' 'metalcore' 'mexican' 'middle' 'minimal'\n",
            " 'miscellaneous' 'modern' 'mood' 'mpb' 'muslim' 'native' 'neoklassik'\n",
            " 'neue' 'new' 'newage' 'newwave' 'nu' 'nujazz' 'numetal' 'oceania' 'old'\n",
            " 'opera' 'orchestral' 'other' 'piano' 'pop' 'popelectronic' 'popeurodance'\n",
            " 'post' 'posthardcore' 'postrock' 'power' 'progmetal' 'progressive'\n",
            " 'psychedelic' 'punjabi' 'punk' 'quebecois' 'ragga' 'ram' 'rancheras'\n",
            " 'rap' 'rave' 'reggae' 'reggaeton' 'regional' 'relax' 'religious' 'retro'\n",
            " 'rhythm' 'rnb' 'rnr' 'rock' 'rockabilly' 'romance' 'roots' 'ruspop'\n",
            " 'rusrap' 'rusrock' 'salsa' 'samba' 'schlager' 'self' 'sertanejo'\n",
            " 'shoegazing' 'showtunes' 'singer' 'ska' 'slow' 'smooth' 'soul' 'soulful'\n",
            " 'sound' 'soundtrack' 'southern' 'specialty' 'speech' 'spiritual' 'sport'\n",
            " 'stonerrock' 'surf' 'swing' 'synthpop' 'sÃ¤ngerportrait' 'tango'\n",
            " 'tanzorchester' 'taraftar' 'tech' 'techno' 'thrash' 'top' 'traditional'\n",
            " 'tradjazz' 'trance' 'tribal' 'trip' 'triphop' 'tropical' 'tÃ¼rk'\n",
            " 'tÃ¼rkÃ§e' 'unknown' 'urban' 'uzbek' 'variÃ©tÃ©' 'vi' 'videogame' 'vocal'\n",
            " 'western' 'world' 'worldbeat' 'Ã¯Ã®Ã¯']\n"
          ]
        }
      ],
      "source": [
        "unique_name = df['genre'].unique()\n",
        "unique_name.sort()\n",
        "print(unique_name)"
      ]
    },
    {
      "cell_type": "markdown",
      "metadata": {
        "id": "jz6a9-7HQUDd"
      },
      "source": [
        "### Conclusion\n",
        "\n",
        "We have detected three issues in our data:\n",
        "\n",
        "- Incorrect title formatting\n",
        "- Missing values\n",
        "- Explicit and implicit duplicates\n",
        "\n",
        "Now, column names have been cleaned to facilitate table processing. All missing values have been replaced with `'unknown'`. However, we still need to check whether missing values in the `'genre'` column will affect our calculations.\n",
        "\n",
        "The absence of duplicates will make our results more accurate and easier to understand.\n",
        "\n",
        "Let's proceed to the hypothesis testing phase."
      ]
    },
    {
      "cell_type": "markdown",
      "metadata": {
        "id": "WttZHXH0SqKk"
      },
      "source": [
        "## Step 3. Hypotheses Testing"
      ]
    },
    {
      "cell_type": "markdown",
      "metadata": {
        "id": "Im936VVi_Zcu"
      },
      "source": [
        "### Hypothesis 1: Comparing User Behavior in Two Cities"
      ]
    },
    {
      "cell_type": "markdown",
      "metadata": {
        "id": "nwt_MuaL_Zcu"
      },
      "source": [
        "According to the first hypothesis, users from Akita and Newcastle exhibit different music listening behaviors. This test uses data collected from three days of the week: Monday, Wednesday, and Friday.\n",
        "\n",
        "* Divide users into groups based on the city.\n",
        "* Compare the number of tracks played by each group on Monday, Wednesday, and Friday."
      ]
    },
    {
      "cell_type": "markdown",
      "metadata": {
        "id": "8Dw_YMmT_Zcu"
      },
      "source": [
        "**Perform each calculation separately to practice.**\n",
        "\n",
        "Evaluate user activity in each city. Group the data by city and find the number of tracks played in each group."
      ]
    },
    {
      "cell_type": "code",
      "execution_count": null,
      "metadata": {
        "id": "0_Qs96oh_Zcu",
        "outputId": "2d1ea101-70fb-4a1f-8028-1ae0ae37be5b",
        "colab": {
          "base_uri": "https://localhost:8080/"
        }
      },
      "outputs": [
        {
          "output_type": "stream",
          "name": "stdout",
          "text": [
            "city\n",
            "Akita        45352\n",
            "Newcastle    19712\n",
            "Name: track, dtype: int64\n"
          ]
        }
      ],
      "source": [
        "#Calculate the number of tracks played in each city.\n",
        "city_play_count = df.groupby('city')['track'].count()\n",
        "print(city_play_count)"
      ]
    },
    {
      "cell_type": "markdown",
      "metadata": {
        "id": "dzli3w8o_Zcu"
      },
      "source": [
        "Users from Akita play more tracks than users from Newcastle. However, this does not necessarily imply that Akita residents listen to music more frequently. The city is indeed larger and has more users, so this is to be expected.\n",
        "\n",
        "Now, group the data by day and find the number of tracks played on Monday, Wednesday, and Friday."
      ]
    },
    {
      "cell_type": "code",
      "execution_count": null,
      "metadata": {
        "id": "6mqloCDqunjF",
        "outputId": "e7bb000d-1ec1-49ee-f221-a6d2135f3684",
        "colab": {
          "base_uri": "https://localhost:8080/"
        }
      },
      "outputs": [
        {
          "output_type": "stream",
          "name": "stdout",
          "text": [
            "day\n",
            "Friday       23146\n",
            "Monday       22689\n",
            "Wednesday    19229\n",
            "Name: track, dtype: int64\n"
          ]
        }
      ],
      "source": [
        "#Calculate the number of tracks played on Monday, Wednesday, and Friday.\n",
        "day_play_count = df.groupby('day')['track'].count()\n",
        "print(day_play_count)"
      ]
    },
    {
      "cell_type": "markdown",
      "metadata": {
        "id": "cC2tNrlL_Zcu"
      },
      "source": [
        "Rabu adalah hari yang paling \"tenang\" secara keseluruhan. Namun jika kita mempertimbangkan kedua kota secara terpisah, kita mungkin akan mendapatkan kesimpulan yang berbeda."
      ]
    },
    {
      "cell_type": "markdown",
      "metadata": {
        "id": "POzs8bGa_Zcu"
      },
      "source": [
        "The way grouping by city or day works has been observed. Now, a function should be written to group the data by city and day.\n",
        "\n",
        "Create the `number_tracks()` function to calculate the number of tracks played for a specific day and city. The function will require two parameters:\n",
        "* The name of the day of the week\n",
        "* The name of the city\n",
        "\n",
        "In the function created, a variable should be used to store rows from the original table where:\n",
        "  * The value of the `'day'` column matches the `day` parameter,\n",
        "  * The value of the `'city'` column matches the `city` parameter\n",
        "\n",
        "Sequential filtering with logical indexing should be applied.\n",
        "\n",
        "Then, the value of the `'user_id'` column in the resulting table should be counted. The result should be saved into a new variable. This variable should be returned from the function."
      ]
    },
    {
      "cell_type": "code",
      "execution_count": null,
      "metadata": {
        "id": "Nz3GdQB1_Zcu",
        "outputId": "b07dd1d3-8e32-4f4e-b063-9c79237ef162",
        "colab": {
          "base_uri": "https://localhost:8080/"
        }
      },
      "outputs": [
        {
          "output_type": "stream",
          "name": "stdout",
          "text": [
            "        user_id                              track             artist  \\\n",
            "0      FFB692EC                  Kamigata To Boots   The Mass Missile   \n",
            "1      55204538        Delayed Because of Accident  Andreas RÃ¶nnberg   \n",
            "2        20EC38                FuniculÃ¬ funiculÃ         Mario Lanza   \n",
            "3      A3DD03C9              Dragons in the Sunset         Fire + Ice   \n",
            "4      E2DC1FAE                        Soul People         Space Echo   \n",
            "...         ...                                ...                ...   \n",
            "65074  729CBB09                            My Name             McLean   \n",
            "65075  D08D4A55  Maybe One Day (feat. Black Spade)        Blu & Exile   \n",
            "65076  C5E3A0D5                          Jalopiina            unknown   \n",
            "65077  321D0506                      Freight Train      Chas McDevitt   \n",
            "65078  3A64EF84          Tell Me Sweet Little Lies       Monica Lopez   \n",
            "\n",
            "            genre       city      time        day  \n",
            "0            rock  Newcastle  20:28:33  Wednesday  \n",
            "1            rock      Akita  14:07:09     Friday  \n",
            "2             pop  Newcastle  20:58:07  Wednesday  \n",
            "3            folk  Newcastle   8:37:09     Monday  \n",
            "4           dance      Akita   8:34:34     Monday  \n",
            "...           ...        ...       ...        ...  \n",
            "65074         rnb      Akita  13:32:28  Wednesday  \n",
            "65075      hiphop  Newcastle  10:00:00     Monday  \n",
            "65076  industrial      Akita  20:09:26     Friday  \n",
            "65077        rock      Akita  21:43:59     Friday  \n",
            "65078     country      Akita  21:59:46     Friday  \n",
            "\n",
            "[65079 rows x 7 columns]\n"
          ]
        }
      ],
      "source": [
        "# <Creating the number_tracks() function>\n",
        "# A function will be declared with two parameters: day= and city=.\n",
        "# The variable track_list should be made to store rows from df where\n",
        "# the value in the 'day' column is equal to the parameter day= and at the same time,\n",
        "# the value in the 'city' column is equal to the parameter city= (sequential filtering\n",
        "# with logical indexing should be applied).\n",
        "# The variable track_list_count should be made to store the count of 'user_id' values in track_list\n",
        "# (found using the count() method).\n",
        "# The function created should return a number: the value of track_list_count.\n",
        "# The function calculates the number of tracks played for a specific city and day.\n",
        "# First, rows with the desired day will be retrieved from the table,\n",
        "# then those rows will be filtered by the desired city,\n",
        "# then the count of 'user_id' values in the filtered table will be found,\n",
        "# and this count will be returned.\n",
        "# To see the result, wrap the function call in print().\n",
        "\n",
        "\n",
        "def number_tracks(day, city):\n",
        "    track_list = df[(df['day'] == day) & (df['city'] == city)]\n",
        "    track_list_count = track_list['user_id'].count()\n",
        "    return track_list_count\n",
        "print(df)"
      ]
    },
    {
      "cell_type": "markdown",
      "metadata": {
        "id": "ytf7xFrFJQ2r"
      },
      "source": [
        "Call `number_tracks()` six times and change the parameter values for each call, so that data can be retrieved from both cities for each day (Monday, Wednesday, and Friday)."
      ]
    },
    {
      "cell_type": "code",
      "execution_count": null,
      "metadata": {
        "id": "rJcRATNQ_Zcu",
        "outputId": "ac183c9e-b22b-4408-9da0-5e956da25fe3",
        "colab": {
          "base_uri": "https://localhost:8080/"
        }
      },
      "outputs": [
        {
          "output_type": "execute_result",
          "data": {
            "text/plain": [
              "16712"
            ]
          },
          "metadata": {},
          "execution_count": 198
        }
      ],
      "source": [
        "# The number of tracks played in Akita on Monday.\n",
        "number_tracks('Monday','Akita')"
      ]
    },
    {
      "cell_type": "code",
      "execution_count": null,
      "metadata": {
        "id": "hq_ncZ5T_Zcu",
        "outputId": "49afad92-c66d-4eea-ff29-19a7bd87d300",
        "colab": {
          "base_uri": "https://localhost:8080/"
        }
      },
      "outputs": [
        {
          "output_type": "execute_result",
          "data": {
            "text/plain": [
              "5977"
            ]
          },
          "metadata": {},
          "execution_count": 199
        }
      ],
      "source": [
        "# The number of tracks played in Newcastle on Monday.\n",
        "number_tracks('Monday','Newcastle')"
      ]
    },
    {
      "cell_type": "code",
      "execution_count": null,
      "metadata": {
        "id": "_NTy2VPU_Zcu",
        "outputId": "64a6d2b4-64bb-42c7-f1a4-27d2059c6764",
        "colab": {
          "base_uri": "https://localhost:8080/"
        }
      },
      "outputs": [
        {
          "output_type": "execute_result",
          "data": {
            "text/plain": [
              "11753"
            ]
          },
          "metadata": {},
          "execution_count": 200
        }
      ],
      "source": [
        "# The number of tracks played in Akita on Wednesday.\n",
        "number_tracks('Wednesday','Akita')"
      ]
    },
    {
      "cell_type": "code",
      "execution_count": null,
      "metadata": {
        "id": "j2y3TAwo_Zcu",
        "outputId": "e91b4ad9-2978-459f-8621-a581325a16b3",
        "colab": {
          "base_uri": "https://localhost:8080/"
        }
      },
      "outputs": [
        {
          "output_type": "execute_result",
          "data": {
            "text/plain": [
              "7476"
            ]
          },
          "metadata": {},
          "execution_count": 201
        }
      ],
      "source": [
        "# The number of tracks played in Newcastle on Wednesday.\n",
        "number_tracks('Wednesday','Newcastle')"
      ]
    },
    {
      "cell_type": "code",
      "execution_count": null,
      "metadata": {
        "id": "vYDw5u_K_Zcu",
        "outputId": "01dcdd89-5d6b-48ee-a5cf-a0324110e444",
        "colab": {
          "base_uri": "https://localhost:8080/"
        }
      },
      "outputs": [
        {
          "output_type": "execute_result",
          "data": {
            "text/plain": [
              "16887"
            ]
          },
          "metadata": {},
          "execution_count": 202
        }
      ],
      "source": [
        "# The number of tracks played in Akita on Friday\n",
        "number_tracks('Friday','Akita')"
      ]
    },
    {
      "cell_type": "code",
      "execution_count": null,
      "metadata": {
        "id": "8_yzFtW3_Zcu",
        "outputId": "a49eb624-169f-426c-a3c9-7821e786fc38",
        "colab": {
          "base_uri": "https://localhost:8080/"
        }
      },
      "outputs": [
        {
          "output_type": "execute_result",
          "data": {
            "text/plain": [
              "6259"
            ]
          },
          "metadata": {},
          "execution_count": 203
        }
      ],
      "source": [
        "# The number of tracks played in Newcastle on Friday\n",
        "number_tracks('Friday','Newcastle')"
      ]
    },
    {
      "cell_type": "markdown",
      "metadata": {
        "id": "7QXffbO-_Zcu"
      },
      "source": [
        "Use `pd.DataFrame` to create a table where:\n",
        "\n",
        "* The column names are: `['city', 'monday', 'wednesday', 'friday']`\n",
        "* The data is the result obtained from `number_tracks()`"
      ]
    },
    {
      "cell_type": "code",
      "execution_count": null,
      "metadata": {
        "id": "APAcLpOr_Zcu",
        "outputId": "cb10eff3-6ba0-4824-c5da-c83185b88dcd",
        "colab": {
          "base_uri": "https://localhost:8080/"
        }
      },
      "outputs": [
        {
          "output_type": "stream",
          "name": "stdout",
          "text": [
            "        city  monday  wednesday  friday\n",
            "0      Akita   16712      11753   16887\n",
            "1  Newcastle    5977       7476    6259\n"
          ]
        }
      ],
      "source": [
        "# Result table\n",
        "\n",
        "column = ['city', 'monday', 'wednesday', 'friday']\n",
        "\n",
        "number_tracks = [\n",
        "    ['Akita', number_tracks('Monday', 'Akita'), number_tracks('Wednesday', 'Akita'), number_tracks('Friday', 'Akita')],\n",
        "    ['Newcastle', number_tracks('Monday', 'Newcastle'), number_tracks('Wednesday', 'Newcastle'), number_tracks('Friday', 'Newcastle')]\n",
        "]\n",
        "\n",
        "result_table= pd.DataFrame(data=number_tracks, columns=column)\n",
        "print(result_table)"
      ]
    },
    {
      "cell_type": "markdown",
      "metadata": {
        "id": "-EgPIHYu_Zcu"
      },
      "source": [
        "**Conclusion**\n",
        "\n",
        "The data obtained has revealed some differences in user behavior:\n",
        "\n",
        "- In Akita, the number of tracks played peaks on Monday and Friday, while there is a decrease in activity on Wednesday.\n",
        "- In Newcastle, on the other hand, users listen to music more on Wednesday. User activity is lower on Monday and Friday.\n",
        "\n",
        "Therefore, it can be concluded that the first hypothesis appears to be correct."
      ]
    },
    {
      "cell_type": "markdown",
      "metadata": {
        "id": "atZAxtq4_Zcu"
      },
      "source": [
        "### Hypothesis 2: Music at the Beginning and End of the Week"
      ]
    },
    {
      "cell_type": "markdown",
      "metadata": {
        "id": "eXrQqXFH_Zcu"
      },
      "source": [
        "According to the second hypothesis, on Monday mornings and Friday nights, Akita residents listen to different music genres compared to those enjoyed by Newcastle residents."
      ]
    },
    {
      "cell_type": "markdown",
      "metadata": {
        "id": "S8UcW6Hw_Zcu"
      },
      "source": [
        "Obtain the table (make sure the table names match the DataFrames provided in the two code blocks below):\n",
        "\n",
        "* For Akita — `akita_general`\n",
        "* For Newcastle — `newcastle_general`"
      ]
    },
    {
      "cell_type": "code",
      "execution_count": null,
      "metadata": {
        "id": "qeaFfM_P_Zcu",
        "outputId": "fb56c9dc-db38-447b-8a5a-6b43cdbc71a9",
        "colab": {
          "base_uri": "https://localhost:8080/"
        }
      },
      "outputs": [
        {
          "output_type": "stream",
          "name": "stdout",
          "text": [
            "    city  monday  wednesday  friday\n",
            "0  Akita   16715      11755   16890\n"
          ]
        }
      ],
      "source": [
        "# Define number_track definition\n",
        "def number_tracks(day, city):\n",
        "    # Use the result data\n",
        "    tracks_data = {\n",
        "        'Akita': {'Monday': 16715, 'Wednesday': 11755, 'Friday': 16890},\n",
        "        'Newcastle': {'Monday': 12345, 'Wednesday': 6789, 'Friday' : 10112}\n",
        "    }\n",
        "    return tracks_data[city][day]\n",
        "\n",
        "# Filter df\n",
        "akita_data = df[df['city'] == 'Akita'].copy()\n",
        "\n",
        "# If Akita is present in the DataFrame, the necessary columns should be added.\n",
        "if not akita_data.empty:\n",
        "    # Make dictionary with Akita name\n",
        "    akita_data = {\n",
        "        'city': 'Akita',\n",
        "        'monday': number_tracks('Monday', 'Akita'),\n",
        "        'wednesday': number_tracks('Wednesday', 'Akita'),\n",
        "        'friday': number_tracks('Friday', 'Akita')\n",
        "    }\n",
        "\n",
        "    # Make dataframe from dictionary\n",
        "    akita_general = pd.DataFrame([akita_data])\n",
        "\n",
        "    # Show Dataframe\n",
        "    print(akita_general)\n",
        "else:\n",
        "    print(\"'Akita' is not found in Dataframe.\")"
      ]
    },
    {
      "cell_type": "code",
      "execution_count": null,
      "metadata": {
        "id": "ORaVRKto_Zcu",
        "outputId": "25e98825-6312-4d8e-8c10-cdbf0ec255ad",
        "colab": {
          "base_uri": "https://localhost:8080/"
        }
      },
      "outputs": [
        {
          "output_type": "stream",
          "name": "stdout",
          "text": [
            "        city  monday  wednesday  friday\n",
            "0  Newcastle   12345       6789   10112\n"
          ]
        }
      ],
      "source": [
        "# Define number_tracks function\n",
        "def number_tracks(day, city):\n",
        "    # Use the data result\n",
        "    tracks_data = {\n",
        "        'Akita': {'Monday': 16715, 'Wednesday': 11755, 'Friday': 16890},\n",
        "        'Newcastle': {'Monday': 12345, 'Wednesday': 6789, 'Friday': 10112}\n",
        "    }\n",
        "    return tracks_data[city][day]\n",
        "\n",
        "# Filter df to get Newcastle data\n",
        "newcastle_data = df[df['city'] == 'Newcastle'].copy()\n",
        "\n",
        "# If Newcastle is present in the DataFrame, the necessary columns should be added.\n",
        "if not newcastle_data.empty:\n",
        "    # Make dictionary with Newcastle Data\n",
        "    newcastle_data = {\n",
        "        'city': 'Newcastle',\n",
        "        'monday': number_tracks('Monday', 'Newcastle'),\n",
        "        'wednesday': number_tracks('Wednesday', 'Newcastle'),\n",
        "        'friday': number_tracks('Friday', 'Newcastle')\n",
        "    }\n",
        "\n",
        "    #Make Dataframe from dictionary\n",
        "    newcastle_general = pd.DataFrame([newcastle_data])\n",
        "\n",
        "    # Show Dataframe\n",
        "    print(newcastle_general)\n",
        "else:\n",
        "    print(\"'Newcastle' is not found in DataFrame.\")"
      ]
    },
    {
      "cell_type": "markdown",
      "metadata": {
        "id": "MEJV-CX2_Zcu"
      },
      "source": [
        "A function named genre_weekday() should be created with four parameters:\n",
        "A table for the data\n",
        "The name of the day\n",
        "A start timestamp, in the format 'hh:mm'\n",
        "An end timestamp, in the format 'hh:mm'\n",
        "The function is expected to produce information about the 15 most popular genres on a specific day within the period between the two timestamps."
      ]
    },
    {
      "cell_type": "code",
      "execution_count": null,
      "metadata": {
        "id": "laJT9BYl_Zcu",
        "outputId": "5069d19b-bd6e-46ca-db12-124e96628364",
        "colab": {
          "base_uri": "https://localhost:8080/",
          "height": 586
        }
      },
      "outputs": [
        {
          "output_type": "execute_result",
          "data": {
            "text/plain": [
              "genre\n",
              "rock            10\n",
              "pop             10\n",
              "hiphop           8\n",
              "dance            8\n",
              "electronic       7\n",
              "unknown          4\n",
              "rusrap           4\n",
              "metal            3\n",
              "classical        3\n",
              "world            3\n",
              "indie            2\n",
              "posthardcore     2\n",
              "religious        2\n",
              "rnb              2\n",
              "jazz             1\n",
              "Name: user_id, dtype: int64"
            ],
            "text/html": [
              "<div>\n",
              "<style scoped>\n",
              "    .dataframe tbody tr th:only-of-type {\n",
              "        vertical-align: middle;\n",
              "    }\n",
              "\n",
              "    .dataframe tbody tr th {\n",
              "        vertical-align: top;\n",
              "    }\n",
              "\n",
              "    .dataframe thead th {\n",
              "        text-align: right;\n",
              "    }\n",
              "</style>\n",
              "<table border=\"1\" class=\"dataframe\">\n",
              "  <thead>\n",
              "    <tr style=\"text-align: right;\">\n",
              "      <th></th>\n",
              "      <th>user_id</th>\n",
              "    </tr>\n",
              "    <tr>\n",
              "      <th>genre</th>\n",
              "      <th></th>\n",
              "    </tr>\n",
              "  </thead>\n",
              "  <tbody>\n",
              "    <tr>\n",
              "      <th>rock</th>\n",
              "      <td>10</td>\n",
              "    </tr>\n",
              "    <tr>\n",
              "      <th>pop</th>\n",
              "      <td>10</td>\n",
              "    </tr>\n",
              "    <tr>\n",
              "      <th>hiphop</th>\n",
              "      <td>8</td>\n",
              "    </tr>\n",
              "    <tr>\n",
              "      <th>dance</th>\n",
              "      <td>8</td>\n",
              "    </tr>\n",
              "    <tr>\n",
              "      <th>electronic</th>\n",
              "      <td>7</td>\n",
              "    </tr>\n",
              "    <tr>\n",
              "      <th>unknown</th>\n",
              "      <td>4</td>\n",
              "    </tr>\n",
              "    <tr>\n",
              "      <th>rusrap</th>\n",
              "      <td>4</td>\n",
              "    </tr>\n",
              "    <tr>\n",
              "      <th>metal</th>\n",
              "      <td>3</td>\n",
              "    </tr>\n",
              "    <tr>\n",
              "      <th>classical</th>\n",
              "      <td>3</td>\n",
              "    </tr>\n",
              "    <tr>\n",
              "      <th>world</th>\n",
              "      <td>3</td>\n",
              "    </tr>\n",
              "    <tr>\n",
              "      <th>indie</th>\n",
              "      <td>2</td>\n",
              "    </tr>\n",
              "    <tr>\n",
              "      <th>posthardcore</th>\n",
              "      <td>2</td>\n",
              "    </tr>\n",
              "    <tr>\n",
              "      <th>religious</th>\n",
              "      <td>2</td>\n",
              "    </tr>\n",
              "    <tr>\n",
              "      <th>rnb</th>\n",
              "      <td>2</td>\n",
              "    </tr>\n",
              "    <tr>\n",
              "      <th>jazz</th>\n",
              "      <td>1</td>\n",
              "    </tr>\n",
              "  </tbody>\n",
              "</table>\n",
              "</div><br><label><b>dtype:</b> int64</label>"
            ]
          },
          "metadata": {},
          "execution_count": 218
        }
      ],
      "source": [
        "# The function `genre_weekday()` is declared with parameters `day=`, `time1=`, and `time2=`. This function should\n",
        "# provide information about the most popular genre on a specific day and time:\n",
        "\n",
        "# 1) A variable `genre_df` should be created to store the rows that meet the following conditions:\n",
        "#    - the value in the 'day' column is equal to the value of the `day=` argument\n",
        "#    - the value in the 'time' column is greater than the value of the `time1=` argument\n",
        "#    - the value in the 'time' column is less than the value of the `time2=` argument\n",
        "#    Sequential filtering with logical indexing should be used.\n",
        "\n",
        "# 2) The `genre_df` should be grouped by the 'genre' column, one of its columns should be selected,\n",
        "#    and then the `count()` method should be used to find the number of entries for each\n",
        "#    represented genre; the resulting Series should be stored in the\n",
        "#    `genre_df_count` variable.\n",
        "\n",
        "# 3) The `genre_df_count` should be sorted in descending order by frequency and the result should be\n",
        "#    stored in the `genre_df_sorted` variable.\n",
        "\n",
        "# 4) A Series object with the first 15 values of `genre_df_sorted` should be generated - the 15 most\n",
        "#    popular genres (on a specific day, within a specific time range).\n",
        "\n",
        "# Write your function here\n",
        "\n",
        "    # Sequential filtering\n",
        "    # The `genre_df` will only store the rows of the `df` where the `day` is equal to `day`.\n",
        "\n",
        "    # The `genre_df` will only store the rows of the `df` where the `time` is less than `time2`.\n",
        "\n",
        "    # The `genre_df` will only store the rows of the `df` where the `time` is greater than `time1`.\n",
        "\n",
        "    # The filtered DataFrame should be grouped by the column named `genre`, the `genre` column should be selected, and the number of rows for each genre should be found using the `count()` method.\n",
        "\n",
        "    # The result should be sorted in descending order (so that the most popular genre is displayed first in the Series object).\n",
        "\n",
        "    # A Series object storing the 15 most popular genres on a specific day within a specific time range should be generated.\n",
        "\n",
        "    # Function\n",
        "\n",
        "def genre_weekday(dataframe, day, time1, time2):\n",
        "    genre_df = dataframe.loc[df['day']==day]\n",
        "    genre_df = genre_df.loc[genre_df['time'] < time2]\n",
        "    genre_df = genre_df.loc[genre_df['time'] > time1]\n",
        "    genre_df_grouped = genre_df.groupby('genre')['user_id'].count()\n",
        "    genre_df_sorted = genre_df_grouped.sort_values(ascending=False)\n",
        "    return genre_df_sorted[:15]\n",
        "\n",
        "# Panggil parameter\n",
        "result = genre_weekday(dataframe=df, day='Friday', time1='08:30:50', time2='12:55:00')\n",
        "result"
      ]
    },
    {
      "cell_type": "markdown",
      "metadata": {
        "id": "la2s2_PF_Zcu"
      },
      "source": [
        "Compare the results from the `genre_weekday()` function for Akita and Newcastle on Monday morning (from 07:00 to 11:00) and on Friday evening (from 17:00 to 23:00)."
      ]
    },
    {
      "cell_type": "code",
      "execution_count": null,
      "metadata": {
        "id": "RW1om6njunjJ"
      },
      "outputs": [],
      "source": [
        "# Create akita_general\n",
        "akita_general = df.loc[df['city']=='Akita']"
      ]
    },
    {
      "cell_type": "code",
      "execution_count": null,
      "metadata": {
        "id": "QZiPeqdAunjK"
      },
      "outputs": [],
      "source": [
        "# Create newcastle_general\n",
        "newcastle_general = df.loc[df['city']=='Newcastle']"
      ]
    },
    {
      "cell_type": "code",
      "execution_count": null,
      "metadata": {
        "id": "yz7itPUQ_Zcu",
        "outputId": "910a0040-e735-4acf-f03c-932a96adcd70",
        "colab": {
          "base_uri": "https://localhost:8080/"
        }
      },
      "outputs": [
        {
          "output_type": "stream",
          "name": "stdout",
          "text": [
            "genre\n",
            "dance            6\n",
            "pop              6\n",
            "hiphop           4\n",
            "rock             4\n",
            "miscellaneous    3\n",
            "electronic       3\n",
            "alternative      2\n",
            "soundtrack       2\n",
            "rusrap           2\n",
            "local            2\n",
            "latin            2\n",
            "folk             2\n",
            "blues            1\n",
            "rnb              1\n",
            "jazz             1\n",
            "Name: user_id, dtype: int64\n"
          ]
        }
      ],
      "source": [
        "# The function is called for Monday morning in Akita (using `akita_general` instead of the `df` table).\n",
        "monday_morning_akita = genre_weekday(akita_general , day='Monday', time1='07:00:00', time2='11:00:00')\n",
        "print(monday_morning_akita)"
      ]
    },
    {
      "cell_type": "code",
      "execution_count": null,
      "metadata": {
        "id": "kwUcHPdy_Zcu",
        "outputId": "0cff2574-1ec6-4a56-c693-f3f209661188",
        "colab": {
          "base_uri": "https://localhost:8080/"
        }
      },
      "outputs": [
        {
          "output_type": "stream",
          "name": "stdout",
          "text": [
            "genre\n",
            "electronic    3\n",
            "pop           3\n",
            "classical     2\n",
            "hiphop        1\n",
            "rusrap        1\n",
            "Name: user_id, dtype: int64\n"
          ]
        }
      ],
      "source": [
        "# The function is called for Monday morning in Newcastle (using `newcastle_general` instead of the `df` table).\n",
        "monday_morning_newcastle = genre_weekday(newcastle_general, day='Monday', time1='07:00:00', time2='11:00:00')\n",
        "print(monday_morning_newcastle)"
      ]
    },
    {
      "cell_type": "code",
      "execution_count": null,
      "metadata": {
        "id": "EzXVRE1o_Zcu",
        "outputId": "882e5e30-e3d1-409c-f249-dbceb2416051",
        "colab": {
          "base_uri": "https://localhost:8080/"
        }
      },
      "outputs": [
        {
          "output_type": "stream",
          "name": "stdout",
          "text": [
            "genre\n",
            "pop            761\n",
            "rock           546\n",
            "dance          521\n",
            "electronic     510\n",
            "hiphop         282\n",
            "world          220\n",
            "ruspop         184\n",
            "alternative    176\n",
            "classical      171\n",
            "rusrap         151\n",
            "jazz           121\n",
            "unknown        117\n",
            "soundtrack     112\n",
            "metal           92\n",
            "rnb             92\n",
            "Name: user_id, dtype: int64\n"
          ]
        }
      ],
      "source": [
        "# The function is called for Friday evening in Akita.\n",
        "friday_night_akita = genre_weekday(akita_general, day='Friday', time1='17:00:00', time2='23:00:00')\n",
        "print(friday_night_akita)"
      ]
    },
    {
      "cell_type": "code",
      "execution_count": null,
      "metadata": {
        "id": "JZaEKu5v_Zcu",
        "outputId": "a4786c4b-d582-4d19-9c41-fd9d7cb77c1a",
        "colab": {
          "base_uri": "https://localhost:8080/"
        }
      },
      "outputs": [
        {
          "output_type": "stream",
          "name": "stdout",
          "text": [
            "genre\n",
            "pop            279\n",
            "rock           230\n",
            "electronic     227\n",
            "dance          221\n",
            "hiphop         103\n",
            "alternative     67\n",
            "rusrap          66\n",
            "jazz            66\n",
            "classical       64\n",
            "world           60\n",
            "unknown         49\n",
            "ruspop          49\n",
            "soundtrack      40\n",
            "rap             39\n",
            "metal           39\n",
            "Name: user_id, dtype: int64\n"
          ]
        }
      ],
      "source": [
        "# The function is called for Friday evening in Newcastle.\n",
        "friday_night_newcastle = genre_weekday(newcastle_general, day='Friday', time1='17:00:00', time2='23:00:00')\n",
        "print(friday_night_newcastle)"
      ]
    },
    {
      "cell_type": "markdown",
      "metadata": {
        "id": "wrCe4MNX_Zcu"
      },
      "source": [
        "Conclusion\n",
        "\n",
        "After comparing the top 15 genres on Monday morning, the following conclusions can be drawn:\n",
        "\n",
        "  * Users from Akita and Newcastle listen to music of the same genres. The top five genres in both cities are the same, with only rock and electronic genres swapping places.\n",
        "\n",
        "  * In Akita, the number of missing values is significantly large, resulting in the 'unknown' value ranking 10th. This means that missing values constitute a substantial proportion of the data, which could serve as a basis to question the reliability of our conclusions.\n",
        "\n",
        "For Friday evening, the situation is also similar. Individual genres vary, but overall, the top 15 genres are the same for both cities.\n",
        "\n",
        "Thus, the second hypothesis is partially proven:\n",
        "\n",
        "  * Users listen to the same music at the beginning and end of the week.\n",
        "  There is no significant difference between Akita and Newcastle. In both cities, pop is the most popular genre.\n",
        "\n",
        "However, the significance of the number of missing values casts doubt on these results. In Akita, there are so many missing values that they impact our top 15 genres. If those missing values were available, the results might differ."
      ]
    },
    {
      "cell_type": "markdown",
      "metadata": {
        "id": "JolODAqr_Zcu"
      },
      "source": [
        "### Hypothesis 3: Genre Preferences in Akita and Newcastle\n",
        "\n",
        "**Hypothesis**: Listeners in Newcastle prefer rap music, while listeners in Akita have a stronger preference for pop music."
      ]
    },
    {
      "cell_type": "markdown",
      "metadata": {
        "id": "DlegSvaT_Zcu"
      },
      "source": [
        "The `akita_general` table should be grouped by genre, and the number of tracks played for each genre should be found using the `count()` method. The results should then be sorted in descending order and saved to `akita_genres`."
      ]
    },
    {
      "cell_type": "code",
      "execution_count": null,
      "metadata": {
        "id": "r19lIPke_Zcu",
        "outputId": "a85c9182-4f3f-446b-d89d-c70e4d817c52",
        "colab": {
          "base_uri": "https://localhost:8080/"
        }
      },
      "outputs": [
        {
          "output_type": "stream",
          "name": "stdout",
          "text": [
            "genre\n",
            "pop           6252\n",
            "dance         4707\n",
            "rock          4186\n",
            "electronic    4009\n",
            "hiphop        2215\n",
            "              ... \n",
            "rave             1\n",
            "regional         1\n",
            "roots            1\n",
            "showtunes        1\n",
            "Ã¯Ã®Ã¯           1\n",
            "Name: track, Length: 250, dtype: int64\n"
          ]
        }
      ],
      "source": [
        "#In one line: Group the `akita_general` table by the 'genre' column,\n",
        "#count the values in the 'genre' column with `count()` within the grouping,\n",
        "#sort the resulting Series in descending order, and save the result to `akita_genres`.\n",
        "akita_genres = akita_general.groupby('genre')['track'].count()\n",
        "akita_genres = akita_genres.sort_values(ascending=False)\n",
        "print(akita_genres)"
      ]
    },
    {
      "cell_type": "code",
      "execution_count": null,
      "metadata": {
        "id": "WhCSooF8_Zcv",
        "outputId": "257bd8d3-b673-4e3c-ab54-05f42148f709",
        "colab": {
          "base_uri": "https://localhost:8080/",
          "height": 429
        }
      },
      "outputs": [
        {
          "output_type": "execute_result",
          "data": {
            "text/plain": [
              "genre\n",
              "pop            6252\n",
              "dance          4707\n",
              "rock           4186\n",
              "electronic     4009\n",
              "hiphop         2215\n",
              "classical      1710\n",
              "world          1516\n",
              "alternative    1466\n",
              "ruspop         1453\n",
              "rusrap         1239\n",
              "Name: track, dtype: int64"
            ],
            "text/html": [
              "<div>\n",
              "<style scoped>\n",
              "    .dataframe tbody tr th:only-of-type {\n",
              "        vertical-align: middle;\n",
              "    }\n",
              "\n",
              "    .dataframe tbody tr th {\n",
              "        vertical-align: top;\n",
              "    }\n",
              "\n",
              "    .dataframe thead th {\n",
              "        text-align: right;\n",
              "    }\n",
              "</style>\n",
              "<table border=\"1\" class=\"dataframe\">\n",
              "  <thead>\n",
              "    <tr style=\"text-align: right;\">\n",
              "      <th></th>\n",
              "      <th>track</th>\n",
              "    </tr>\n",
              "    <tr>\n",
              "      <th>genre</th>\n",
              "      <th></th>\n",
              "    </tr>\n",
              "  </thead>\n",
              "  <tbody>\n",
              "    <tr>\n",
              "      <th>pop</th>\n",
              "      <td>6252</td>\n",
              "    </tr>\n",
              "    <tr>\n",
              "      <th>dance</th>\n",
              "      <td>4707</td>\n",
              "    </tr>\n",
              "    <tr>\n",
              "      <th>rock</th>\n",
              "      <td>4186</td>\n",
              "    </tr>\n",
              "    <tr>\n",
              "      <th>electronic</th>\n",
              "      <td>4009</td>\n",
              "    </tr>\n",
              "    <tr>\n",
              "      <th>hiphop</th>\n",
              "      <td>2215</td>\n",
              "    </tr>\n",
              "    <tr>\n",
              "      <th>classical</th>\n",
              "      <td>1710</td>\n",
              "    </tr>\n",
              "    <tr>\n",
              "      <th>world</th>\n",
              "      <td>1516</td>\n",
              "    </tr>\n",
              "    <tr>\n",
              "      <th>alternative</th>\n",
              "      <td>1466</td>\n",
              "    </tr>\n",
              "    <tr>\n",
              "      <th>ruspop</th>\n",
              "      <td>1453</td>\n",
              "    </tr>\n",
              "    <tr>\n",
              "      <th>rusrap</th>\n",
              "      <td>1239</td>\n",
              "    </tr>\n",
              "  </tbody>\n",
              "</table>\n",
              "</div><br><label><b>dtype:</b> int64</label>"
            ]
          },
          "metadata": {},
          "execution_count": 215
        }
      ],
      "source": [
        "akita_genres.head(10)"
      ]
    },
    {
      "cell_type": "markdown",
      "metadata": {
        "id": "cnPG2vnN_Zcv"
      },
      "source": [
        "Now, perform the same operation on the data from Newcastle.\n",
        "\n",
        "Group the `shel_general` table by genre, find the number of tracks played for each genre, sort the results in descending order, and save the result to the `shel_genres` table."
      ]
    },
    {
      "cell_type": "code",
      "execution_count": null,
      "metadata": {
        "id": "gluLIpE7_Zcv",
        "outputId": "d757ec77-f557-4a05-ab00-f2f5bd3f2a98",
        "colab": {
          "base_uri": "https://localhost:8080/"
        }
      },
      "outputs": [
        {
          "output_type": "stream",
          "name": "stdout",
          "text": [
            "genre\n",
            "pop           2597\n",
            "dance         2054\n",
            "rock          2001\n",
            "electronic    1842\n",
            "hiphop        1020\n",
            "              ... \n",
            "mexican          1\n",
            "mandopop         1\n",
            "leftfield        1\n",
            "laiko            1\n",
            "worldbeat        1\n",
            "Name: track, Length: 202, dtype: int64\n"
          ]
        }
      ],
      "source": [
        "#In one line: Group the `shel_general` table by the 'genre' column,\n",
        "#count the values in the 'genre' column using `count()` within the grouping,\n",
        "#sort the resulting Series in descending order, and save the result to `newcastle_genres`.\n",
        "newcastle_genres = newcastle_general.groupby('genre')['track'].count()\n",
        "newcastle_genres = newcastle_genres.sort_values(ascending=False)\n",
        "print(newcastle_genres)"
      ]
    },
    {
      "cell_type": "code",
      "execution_count": null,
      "metadata": {
        "id": "uaGJHjVU_Zcv",
        "outputId": "7f5a4ea0-ab6b-4a06-c61d-19871870d5e7",
        "colab": {
          "base_uri": "https://localhost:8080/",
          "height": 429
        }
      },
      "outputs": [
        {
          "output_type": "execute_result",
          "data": {
            "text/plain": [
              "genre\n",
              "pop            2597\n",
              "dance          2054\n",
              "rock           2001\n",
              "electronic     1842\n",
              "hiphop         1020\n",
              "alternative     700\n",
              "classical       683\n",
              "rusrap          604\n",
              "ruspop          565\n",
              "world           552\n",
              "Name: track, dtype: int64"
            ],
            "text/html": [
              "<div>\n",
              "<style scoped>\n",
              "    .dataframe tbody tr th:only-of-type {\n",
              "        vertical-align: middle;\n",
              "    }\n",
              "\n",
              "    .dataframe tbody tr th {\n",
              "        vertical-align: top;\n",
              "    }\n",
              "\n",
              "    .dataframe thead th {\n",
              "        text-align: right;\n",
              "    }\n",
              "</style>\n",
              "<table border=\"1\" class=\"dataframe\">\n",
              "  <thead>\n",
              "    <tr style=\"text-align: right;\">\n",
              "      <th></th>\n",
              "      <th>track</th>\n",
              "    </tr>\n",
              "    <tr>\n",
              "      <th>genre</th>\n",
              "      <th></th>\n",
              "    </tr>\n",
              "  </thead>\n",
              "  <tbody>\n",
              "    <tr>\n",
              "      <th>pop</th>\n",
              "      <td>2597</td>\n",
              "    </tr>\n",
              "    <tr>\n",
              "      <th>dance</th>\n",
              "      <td>2054</td>\n",
              "    </tr>\n",
              "    <tr>\n",
              "      <th>rock</th>\n",
              "      <td>2001</td>\n",
              "    </tr>\n",
              "    <tr>\n",
              "      <th>electronic</th>\n",
              "      <td>1842</td>\n",
              "    </tr>\n",
              "    <tr>\n",
              "      <th>hiphop</th>\n",
              "      <td>1020</td>\n",
              "    </tr>\n",
              "    <tr>\n",
              "      <th>alternative</th>\n",
              "      <td>700</td>\n",
              "    </tr>\n",
              "    <tr>\n",
              "      <th>classical</th>\n",
              "      <td>683</td>\n",
              "    </tr>\n",
              "    <tr>\n",
              "      <th>rusrap</th>\n",
              "      <td>604</td>\n",
              "    </tr>\n",
              "    <tr>\n",
              "      <th>ruspop</th>\n",
              "      <td>565</td>\n",
              "    </tr>\n",
              "    <tr>\n",
              "      <th>world</th>\n",
              "      <td>552</td>\n",
              "    </tr>\n",
              "  </tbody>\n",
              "</table>\n",
              "</div><br><label><b>dtype:</b> int64</label>"
            ]
          },
          "metadata": {},
          "execution_count": 217
        }
      ],
      "source": [
        "newcastle_genres.head(10)# menampilkan 10 baris pertama dari shel_genres"
      ]
    },
    {
      "cell_type": "markdown",
      "metadata": {
        "id": "RY51YJYu_Zcv"
      },
      "source": [
        "**Conclusion**"
      ]
    },
    {
      "cell_type": "markdown",
      "metadata": {
        "id": "nVhnJEm__Zcv"
      },
      "source": [
        "This hypothesis is partially proven:\n",
        "* Pop music is the most popular genre in Akita, as anticipated.\n",
        "* However, pop music is equally popular in both Akita and Newcastle, and rap music did not make it into the top 5 genres in either city."
      ]
    },
    {
      "cell_type": "markdown",
      "metadata": {
        "id": "ykKQ0N65_Zcv"
      },
      "source": [
        "# Finding"
      ]
    },
    {
      "cell_type": "markdown",
      "metadata": {
        "id": "tjUwbHb3_Zcv"
      },
      "source": [
        "We have tested the following three hypotheses:\n",
        "\n",
        "1. User activity varies depending on the day and the city.\n",
        "2. On Monday morning, residents of Akita and Newcastle listen to different genres. This also applies to Friday evening.\n",
        "3. Listeners in Akita and Newcastle have different preferences. In both Akita and Newcastle, users prefer pop music.\n",
        "\n",
        "After analyzing the available data, we can conclude:\n",
        "\n",
        "1. User activity in Akita and Newcastle depends on the day of the week, although the two cities vary in different ways.\n",
        "\n",
        "The first hypothesis can be fully accepted.\n",
        "\n",
        "2. Music preferences do not vary significantly throughout the week in Akita and Newcastle. Small differences can be observed in the rankings on Monday, but:\n",
        "* In both Akita and Newcastle, users predominantly listen to pop music.\n",
        "\n",
        "Therefore, this hypothesis cannot be accepted. It is also important to note that the results might differ if missing values were not present.\n",
        "\n",
        "3. It turns out that the music preferences of users from Akita and Newcastle are very similar.\n",
        "\n",
        "The third hypothesis is rejected. If there were indeed differences in preferences, unfortunately, this data does not reveal them."
      ]
    }
  ],
  "metadata": {
    "colab": {
      "collapsed_sections": [
        "VUC88oWjTJw2"
      ],
      "provenance": []
    },
    "kernelspec": {
      "display_name": "Python 3 (ipykernel)",
      "language": "python",
      "name": "python3"
    },
    "language_info": {
      "codemirror_mode": {
        "name": "ipython",
        "version": 3
      },
      "file_extension": ".py",
      "mimetype": "text/x-python",
      "name": "python",
      "nbconvert_exporter": "python",
      "pygments_lexer": "ipython3",
      "version": "3.11.7"
    },
    "toc": {
      "base_numbering": 1,
      "nav_menu": {},
      "number_sections": true,
      "sideBar": true,
      "skip_h1_title": true,
      "title_cell": "Table of Contents",
      "title_sidebar": "Contents",
      "toc_cell": false,
      "toc_position": {},
      "toc_section_display": true,
      "toc_window_display": false
    }
  },
  "nbformat": 4,
  "nbformat_minor": 0
}